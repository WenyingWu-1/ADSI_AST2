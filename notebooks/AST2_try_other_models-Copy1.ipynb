{
 "cells": [
  {
   "cell_type": "markdown",
   "metadata": {
    "tags": []
   },
   "source": [
    "# **NBA Career Prediction**\n",
    "**Predict 5-Year Career Longevity for NBA Rookies**"
   ]
  },
  {
   "cell_type": "markdown",
   "metadata": {},
   "source": [
    "## WEEK 2 - Grid Search Modeling and Hyperopt Boosting XG Boost\n",
    "\n",
    "In this project, we are trying to classify a rookie player will last at least 5 years in the NBA or not. In this notwbook, we will use search to turn models.\n",
    "Model includes LRs, XGboost, KNN and Ramdom Forest.\n",
    "\n",
    "**The steps are:**\n",
    "1. Read Data\n",
    "    * Import Libraries\n",
    "    * Load data\n",
    "2. Data Exploration \n",
    "3. Data visualization\n",
    "3. Prepare data"
   ]
  },
  {
   "cell_type": "markdown",
   "metadata": {},
   "source": [
    "## 1. Grid Search Modeling"
   ]
  },
  {
   "cell_type": "markdown",
   "metadata": {},
   "source": [
    "##### **[1.1]** Import all modules needed"
   ]
  },
  {
   "cell_type": "code",
   "execution_count": 1,
   "metadata": {},
   "outputs": [],
   "source": [
    "import pandas as pd\n",
    "import numpy as np\n",
    "import matplotlib.pyplot as plt\n",
    "from sklearn.preprocessing import StandardScaler\n",
    "from sklearn.model_selection import train_test_split\n",
    "from sklearn.metrics import roc_curve,roc_auc_score, plot_confusion_matrix, classification_report\n",
    "from sklearn.metrics import accuracy_score,confusion_matrix\n",
    "from sklearn.impute import SimpleImputer\n",
    "from sklearn.linear_model import LogisticRegression as LR\n",
    "from sklearn.decomposition import PCA\n",
    "from sklearn.neighbors import KNeighborsClassifier\n",
    "from sklearn.ensemble import RandomForestClassifier\n",
    "from xgboost import XGBClassifier\n",
    "from sklearn.model_selection import RandomizedSearchCV, GridSearchCV\n",
    "from sklearn.neural_network import MLPClassifier\n",
    "from collections import Counter\n",
    "# from imblearn.over_sampling import RandomOverSampler\n",
    "import warnings\n",
    "warnings.filterwarnings(action=\"ignore\")"
   ]
  },
  {
   "cell_type": "code",
   "execution_count": 2,
   "metadata": {},
   "outputs": [],
   "source": [
    "%load_ext autoreload\n",
    "%autoreload 2\n",
    "#new"
   ]
  },
  {
   "cell_type": "code",
   "execution_count": 3,
   "metadata": {},
   "outputs": [],
   "source": [
    "from src.data.sets import load_sets\n",
    "X_train, y_train, X_val, y_val, X_test, y_test = load_sets()\n",
    "#new"
   ]
  },
  {
   "cell_type": "code",
   "execution_count": null,
   "metadata": {},
   "outputs": [],
   "source": [
    "from sklearn.neural_network import MLPClassifier\n",
    "snn_classifier = MLPClassifier()\n",
    "snn_classifier.fit(X_train, y_train)\n",
    "\n",
    "snn_predictions = snn_classifier.predict(X_train)\n",
    "snn_predictions_labels = [np.argmax(p) for p in snn_predictions]\n",
    "evaluate(training_outputs_labels, snn_predictions_labels, labels)\n",
    "Image.fromarray(format_prediction(snn_predictions)) "
   ]
  },
  {
   "cell_type": "code",
   "execution_count": null,
   "metadata": {},
   "outputs": [],
   "source": []
  },
  {
   "cell_type": "code",
   "execution_count": null,
   "metadata": {},
   "outputs": [],
   "source": []
  },
  {
   "cell_type": "code",
   "execution_count": null,
   "metadata": {},
   "outputs": [],
   "source": []
  },
  {
   "cell_type": "code",
   "execution_count": null,
   "metadata": {},
   "outputs": [],
   "source": []
  },
  {
   "cell_type": "markdown",
   "metadata": {},
   "source": [
    "##### **[1.2]** Import and prepare datasets"
   ]
  },
  {
   "cell_type": "code",
   "execution_count": 121,
   "metadata": {},
   "outputs": [
    {
     "name": "stdout",
     "output_type": "stream",
     "text": [
      "Distribution of raw trainset y_train：Counter({1: 5335, 0: 1065})\n",
      "Distribution of trainset y_ros with oversampling：Counter({1: 5335, 0: 5335})\n"
     ]
    }
   ],
   "source": [
    "# Get y_train\n",
    "y_train = pd.read_csv('../data/raw/train.csv')\n",
    "y_train = y_train.loc[:,'TARGET_5Yrs']\n",
    "y_train = y_train.reset_index(drop=True)\n",
    "\n",
    "# Get Feature Engineered Dataset\n",
    "data = pd.read_csv(\"../data/processed/final_X_corrs2.csv\")\n",
    "data = data.reset_index(drop=True)\n",
    "\n",
    "# split train and test set\n",
    "train = data.iloc[:len(y_train), :]\n",
    "test = data.iloc[len(y_train):, :]\n",
    "\n",
    "# fill all np.nan with mode of each column\n",
    "imputer = SimpleImputer(missing_values=np.nan, strategy='most_frequent')\n",
    "X_train = imputer.fit_transform(train)\n",
    "X_test = imputer.transform(test)\n",
    "\n",
    "# Fit and apply the scaling on data and test\n",
    "scaler = StandardScaler()\n",
    "X_train = scaler.fit_transform(X_train)\n",
    "X_test = scaler.transform(X_test)\n",
    "\n",
    "X_train, X_val, y_train, y_val = train_test_split(X_train,\n",
    "                                                  y_train,\n",
    "                                                  test_size=0.2,\n",
    "                                                  random_state=0,\n",
    "                                                  stratify=y_train)\n",
    "\n",
    "# Apply RandomOversampling\n",
    "# Distribution of raw trainset y_train\n",
    "print('Distribution of raw trainset y_train：{}'.format(Counter(y_train)))\n",
    "\n",
    "# Distribution of trainset y_ros with oversampling\n",
    "ros = RandomOverSampler(random_state=0, sampling_strategy='auto')\n",
    "X_ros, y_ros = ros.fit_resample(X_train, y_train)\n",
    "print('Distribution of trainset y_ros with oversampling：{}'.format(Counter(y_ros)))"
   ]
  },
  {
   "cell_type": "code",
   "execution_count": 13,
   "metadata": {},
   "outputs": [],
   "source": [
    "X_train = np.load('../data/processed/X_train.npy')\n",
    "y_train = np.load('../data/processed/y_train.npy')\n",
    "\n",
    "X_val   = np.load('../data/processed/X_val.npy')\n",
    "y_val  = np.load('../data/processed/y_val.npy')\n",
    "\n",
    "X_test  = np.load('../data/processed/X_test.npy')"
   ]
  },
  {
   "cell_type": "markdown",
   "metadata": {},
   "source": [
    "##### **[1.3]** Define functions"
   ]
  },
  {
   "cell_type": "code",
   "execution_count": 5,
   "metadata": {},
   "outputs": [],
   "source": [
    "# Models dictionary\n",
    "models = {\"Logistic Regression\": LR(),\n",
    "         \"KNN\": KNeighborsClassifier(),\n",
    "         \"Random Forest\": RandomForestClassifier(),\n",
    "         \"XGBoost\": XGBClassifier()}\n",
    "\n",
    "#Function that will evaluate the model performance using various metrics\n",
    "def evaluate_pred(y_pred, y_val):\n",
    "    accuracy = accuracy_score(y_val, y_pred)\n",
    "    precision = precision_score(y_val, y_pred)\n",
    "    recall = recall_score(y_val, y_pred)\n",
    "    f1 = f1_score(y_val, y_pred)\n",
    "    metric_dict = {\"accuracy\": round(accuracy, 2), \"precision\": round(precision, 2), \"recall\": round(recall, 2),\n",
    "                  \"f1\": round(f1,2)}\n",
    "    print(f\"Accuracy: {accuracy*100:.2f}%\")\n",
    "    print(f\"Precision: {precision:.2f}\")\n",
    "    print(f\"Recall: {recall:.2f}\")\n",
    "    print(f\"F1 score: {f1:.2f}\")\n",
    "    \n",
    "    return metric_dict\n",
    "\n",
    "# Function that will fit and score the models\n",
    "def fit_and_score(models, X_train, X_val, y_train, y_val):\n",
    "    np.random.seed(42)\n",
    "    \n",
    "    #Dictionary of model scores\n",
    "    model_scores = {}\n",
    "    \n",
    "    #Loop through models\n",
    "    for name, model in models.items():\n",
    "        clf = model\n",
    "        clf.fit(X_train, y_train)\n",
    "        model_scores[name] = model.score(X_val, y_val)\n",
    "    return model_scores"
   ]
  },
  {
   "cell_type": "markdown",
   "metadata": {},
   "source": [
    "##### **[1.4]** Get default model scores"
   ]
  },
  {
   "cell_type": "code",
   "execution_count": null,
   "metadata": {},
   "outputs": [],
   "source": [
    "model_scores = fit_and_score(models, X_train, X_val, y_train, y_val)\n",
    "model_scores"
   ]
  },
  {
   "cell_type": "code",
   "execution_count": null,
   "metadata": {},
   "outputs": [],
   "source": [
    "# default models\n",
    "xgb = XGBClassifier()\n",
    "xgb.fit(X_train, y_train)\n",
    "y_pred = xgb.predict(X_val)\n",
    "print(f'accuracy_val:{accuracy_score(y_pred, y_val)}')\n",
    "y_pred = xgb.predict(X_test)\n",
    "print(f'accuracy_test:{accuracy_score(y_pred, y_test)}')"
   ]
  },
  {
   "cell_type": "code",
   "execution_count": null,
   "metadata": {},
   "outputs": [],
   "source": [
    "rf = RandomForestClassifier()\n",
    "rf.fit(X_train, y_train)\n",
    "y_pred = rf.predict(X_val)\n",
    "print(f'accuracy_val:{accuracy_score(y_pred, y_val)}')\n",
    "y_pred = rf.predict(X_test)\n",
    "print(f'accuracy_test:{accuracy_score(y_pred, y_test)}')"
   ]
  },
  {
   "cell_type": "code",
   "execution_count": null,
   "metadata": {},
   "outputs": [],
   "source": []
  },
  {
   "cell_type": "code",
   "execution_count": null,
   "metadata": {},
   "outputs": [],
   "source": []
  },
  {
   "cell_type": "code",
   "execution_count": null,
   "metadata": {},
   "outputs": [],
   "source": []
  },
  {
   "cell_type": "markdown",
   "metadata": {},
   "source": [
    "##### **[1.5]** Define grid search functions"
   ]
  },
  {
   "cell_type": "code",
   "execution_count": 5,
   "metadata": {},
   "outputs": [],
   "source": [
    "def grid_search_LR_default():\n",
    "    # Create hyperparameter options, classweight default\n",
    "    grid={\"C\":np.logspace(-4, 4, 20), \"penalty\":[\"l1\",\"l2\"]}\n",
    "\n",
    "    # Apply grid search\n",
    "    log_clf = GridSearchCV(LR(max_iter=10000), grid, cv=5, verbose=0, scoring=\"roc_auc\")\n",
    "\n",
    "    #Fit\n",
    "    log_clf.fit(X_train, y_train)\n",
    "\n",
    "    #instantiate the best estimator\n",
    "    estimator = log_clf.best_estimator_\n",
    "    estimator.fit(X_train, y_train)\n",
    "    y_pred = estimator.predict(X_val)\n",
    "    y_preds_probs=estimator.predict_proba(X_val)[:,1]\n",
    "    print(estimator)\n",
    "    print(f'accuracy_val:{accuracy_score(y_pred, y_val)}')\n",
    "    print(f'auc_val:{roc_auc_score(y_val, y_preds_probs)}')\n",
    "    print()\n",
    "    y_pred = estimator.predict(X_train)\n",
    "    y_preds_probs=estimator.predict_proba(X_train)[:,1]\n",
    "    print(f'accuracy_train:{accuracy_score(y_pred, y_train)}')\n",
    "    print(f'auc_train:{roc_auc_score(y_train, y_preds_probs)}')\n"
   ]
  },
  {
   "cell_type": "code",
   "execution_count": 6,
   "metadata": {},
   "outputs": [],
   "source": [
    "def grid_search_LR_balanced():\n",
    "    # Create hyperparameter options, classweight = \"balabnced\"\n",
    "    grid={\"C\":np.logspace(-4, 4, 20), \"penalty\":[\"l1\",\"l2\"]}\n",
    "\n",
    "    # Apply grid search\n",
    "    log_clf = GridSearchCV(LR(max_iter=10000, class_weight='balanced'), grid, cv=5, verbose=0, scoring=\"roc_auc\")\n",
    "\n",
    "    #Fit\n",
    "    log_clf.fit(X_train, y_train)\n",
    "    \n",
    "    #instantiate the best estimator\n",
    "    estimator = log_clf.best_estimator_\n",
    "    estimator.fit(X_train, y_train)\n",
    "    y_pred = estimator.predict(X_val)\n",
    "    y_preds_probs=estimator.predict_proba(X_val)[:,1]\n",
    "    print(estimator)\n",
    "    print(f'accuracy_val:{accuracy_score(y_pred, y_val)}')\n",
    "    print(f'auc_val:{roc_auc_score(y_val, y_preds_probs)}')\n",
    "    print()\n",
    "    y_pred = estimator.predict(X_train)\n",
    "    y_preds_probs=estimator.predict_proba(X_train)[:,1]\n",
    "    print(f'accuracy_train:{accuracy_score(y_pred, y_train)}')\n",
    "    print(f'auc_train:{roc_auc_score(y_train, y_preds_probs)}')\n"
   ]
  },
  {
   "cell_type": "code",
   "execution_count": 7,
   "metadata": {},
   "outputs": [],
   "source": [
    "def grid_search_XGboost():\n",
    "    #Constructing the grid\n",
    "    param_test1 = {\n",
    "     'n_estimators':range(100,300,20),\n",
    "     'max_depth':range(3,10,2),\n",
    "     'min_child_weight':range(1,10,2)\n",
    "    }\n",
    "\n",
    "    #Apply grid search\n",
    "    xg_clf = GridSearchCV(XGBClassifier(use_label_encoder=False, eval_metric='logloss'), param_test1, cv=5, verbose=0, scoring=\"roc_auc\")\n",
    "    xg_clf.fit(X_train, y_train)\n",
    "    \n",
    "    #instantiate the best estimator\n",
    "    xg_clf1 = xg_clf.best_estimator_\n",
    "    xg_clf1.fit(X_train, y_train)\n",
    "    y_pred = xg_clf1.predict(X_val)\n",
    "    y_preds_probs = xg_clf1.predict_proba(X_val)[:,1]\n",
    "    print(xg_clf1)\n",
    "    print(f'accuracy_val:{accuracy_score(y_pred, y_val)}')\n",
    "    print(f'auc_val:{roc_auc_score(y_val, y_pred)}, 1&0')\n",
    "    print(f'auc_val:{roc_auc_score(y_val, y_preds_probs)}, %')\n",
    "    print()\n",
    "    y_pred = xg_clf1.predict(X_train)\n",
    "    y_preds_probs=xg_clf1.predict_proba(X_train)[:,1]\n",
    "    print(f'accuracy_train:{accuracy_score(y_pred, y_train)}')\n",
    "    print(f'auc_val:{roc_auc_score(y_train, y_pred)}, 1&0')\n",
    "    print(f'auc_train:{roc_auc_score(y_train, y_preds_probs)}, %')\n"
   ]
  },
  {
   "cell_type": "code",
   "execution_count": 8,
   "metadata": {},
   "outputs": [],
   "source": [
    "def grid_search_KNN():\n",
    "    #Desired range for k parameter\n",
    "    k_range = list(range(9, 50))\n",
    "\n",
    "    #Creating grid\n",
    "    param_grid = dict(n_neighbors=k_range)\n",
    "\n",
    "    #Applying GridSearchCV\n",
    "    knn_clf = GridSearchCV(KNeighborsClassifier(), param_grid, cv=5, scoring=\"roc_auc\")\n",
    "    knn_clf.fit(X_train, y_train)\n",
    "    \n",
    "    #instantiate the best estimator\n",
    "    knn_clf1 = knn_clf.best_estimator_\n",
    "    knn_clf1.fit(X_train, y_train)\n",
    "    y_pred = knn_clf1.predict(X_val)\n",
    "    y_preds_proba = knn_clf1.predict_proba(X_val)[:,1]\n",
    "    print(knn_clf1)\n",
    "    print(f'accuracy_val:{accuracy_score(y_pred, y_val)}')\n",
    "    print(f'auc_val:{roc_auc_score(y_val, y_pred)}, 1&0')\n",
    "    print(f'auc_val:{roc_auc_score(y_val, y_preds_proba)}, %')\n",
    "    y_pred = knn_clf1.predict(X_train)\n",
    "    y_preds_proba = knn_clf1.predict_proba(X_train)[:,1]\n",
    "    print()\n",
    "    print(f'accuracy_train:{accuracy_score(y_pred, y_train)}')\n",
    "    print(f'auc_train:{roc_auc_score(y_train, y_pred)}, 1&0')\n",
    "    print(f'auc_train:{roc_auc_score(y_train, y_preds_proba)}, %')\n"
   ]
  },
  {
   "cell_type": "code",
   "execution_count": 9,
   "metadata": {},
   "outputs": [],
   "source": [
    "def grid_search_RF():\n",
    "    #Creating the grid\n",
    "    param_grid = {\n",
    "        'n_estimators': range(100,300,20),\n",
    "        'max_depth': range(3,15,2),\n",
    "        'random_state': [8888],\n",
    "        #'max_features': ['auto'],\n",
    "        #'criterion' :['gini']\n",
    "    }\n",
    "\n",
    "    #Applying grid search\n",
    "    cv_rfc = GridSearchCV(estimator=RandomForestClassifier(), param_grid=param_grid, cv= 5, scoring=\"roc_auc\")\n",
    "    cv_rfc.fit(X_train, y_train)\n",
    "    \n",
    "    #instantiate the best estimator\n",
    "    rfc = cv_rfc.best_estimator_\n",
    "    rfc.fit(X_train, y_train)\n",
    "    y_pred = rfc.predict(X_val)\n",
    "    y_preds_proba = rfc.predict_proba(X_val)[:,1]\n",
    "    print(rfc)\n",
    "    print(f'accuracy_val:{accuracy_score(y_pred, y_val)}')\n",
    "    print(f'auc_val:{roc_auc_score(y_val, y_pred)}, 1&0')\n",
    "    print(f'auc_val:{roc_auc_score(y_val, y_preds_proba)}, %')\n",
    "    y_pred = rfc.predict(X_train)\n",
    "    y_preds_proba = rfc.predict_proba(X_train)[:,1]\n",
    "    print()\n",
    "    print(f'accuracy_train:{accuracy_score(y_pred, y_train)}')\n",
    "    print(f'auc_train:{roc_auc_score(y_train, y_pred)}, 1&0')\n",
    "    print(f'auc_train:{roc_auc_score(y_train, y_preds_proba)}, %')\n"
   ]
  },
  {
   "cell_type": "code",
   "execution_count": 10,
   "metadata": {},
   "outputs": [],
   "source": [
    "def grid_search_NN():\n",
    "    #Creating the grid\n",
    "    parameter_space = {\n",
    "        'hidden_layer_sizes': [(10,30,10),(20,)],\n",
    "        'activation': ['tanh', 'relu'],\n",
    "        'solver': ['sgd', 'adam'],\n",
    "        'alpha': [0.0001, 0.05],\n",
    "        'learning_rate': ['constant','adaptive'],\n",
    "    }\n",
    "\n",
    "    clf = GridSearchCV(MLPClassifier(max_iter=100), parameter_space, n_jobs=-1, cv=5, scoring=\"roc_auc\")\n",
    "    clf.fit(X_train, y_train)\n",
    "    \n",
    "    #instantiate the best estimator\n",
    "    nn_clf1 = clf.best_estimator_\n",
    "    nn_clf1.fit(X_train, y_train)\n",
    "    y_pred = nn_clf1.predict(X_val)\n",
    "    y_preds_proba = nn_clf1.predict_proba(X_val)[:,1]\n",
    "    print(knn_clf1)\n",
    "    print(f'accuracy_val:{accuracy_score(y_pred, y_val)}')\n",
    "    print(f'auc_val:{roc_auc_score(y_val, y_pred)}, 1&0')\n",
    "    print(f'auc_val:{roc_auc_score(y_val, y_preds_proba)}, %')\n",
    "    y_pred = knn_clf1.predict(X_train)\n",
    "    y_preds_proba = knn_clf1.predict_proba(X_train)[:,1]\n",
    "    print()\n",
    "    print(f'accuracy_train:{accuracy_score(y_pred, y_train)}')\n",
    "    print(f'auc_train:{roc_auc_score(y_train, y_pred)}, 1&0')\n",
    "    print(f'auc_train:{roc_auc_score(y_train, y_preds_proba)}, %')"
   ]
  },
  {
   "cell_type": "markdown",
   "metadata": {
    "tags": []
   },
   "source": [
    "##### **[1.6]** Define start grid search function"
   ]
  },
  {
   "cell_type": "code",
   "execution_count": 11,
   "metadata": {},
   "outputs": [],
   "source": [
    "def grid_search_start():\n",
    "    print(\"LR default:\")\n",
    "    grid_search_LR_default()\n",
    "    print()\n",
    "    print(\"LR balanced:\")\n",
    "    grid_search_LR_balanced()\n",
    "    print()\n",
    "    # print(\"XGboost:\")\n",
    "    # grid_search_XGboost()\n",
    "    # print()\n",
    "    # print(\"KNN:\")\n",
    "    # grid_search_KNN()\n",
    "    # print()\n",
    "    # print(\"RF:\")\n",
    "    # grid_search_RF()\n"
   ]
  },
  {
   "cell_type": "markdown",
   "metadata": {
    "tags": []
   },
   "source": [
    "##### **[1.7]** Get results"
   ]
  },
  {
   "cell_type": "code",
   "execution_count": null,
   "metadata": {},
   "outputs": [
    {
     "name": "stdout",
     "output_type": "stream",
     "text": [
      "Data Cleaning: use wk3 result - 94 cols + kmean+Gaussian\n",
      "LR default:\n",
      "LogisticRegression(C=0.004832930238571752, max_iter=10000)\n",
      "accuracy_val:0.83625\n",
      "auc_val:0.709410332427771\n",
      "\n",
      "accuracy_train:0.83453125\n",
      "auc_train:0.7080549652177356\n",
      "\n",
      "LR balanced:\n",
      "LogisticRegression(C=0.0018329807108324356, class_weight='balanced',\n",
      "                   max_iter=10000)\n",
      "accuracy_val:0.661875\n",
      "auc_val:0.7087367970150265\n",
      "\n",
      "accuracy_train:0.64203125\n",
      "auc_train:0.7071899186433817\n",
      "\n"
     ]
    }
   ],
   "source": [
    "print(\"Data Cleaning: use wk3 result - 94 cols + kmean+Gaussian\")\n",
    "grid_search_start()"
   ]
  },
  {
   "cell_type": "markdown",
   "metadata": {
    "jp-MarkdownHeadingCollapsed": true,
    "tags": []
   },
   "source": [
    "## 2. Start Hyperopt boosting XGboost"
   ]
  },
  {
   "cell_type": "markdown",
   "metadata": {},
   "source": [
    "##### **[2.1]** Import all modules needed"
   ]
  },
  {
   "cell_type": "code",
   "execution_count": 46,
   "metadata": {},
   "outputs": [],
   "source": [
    "from hyperopt import Trials, STATUS_OK, tpe, hp, fmin"
   ]
  },
  {
   "cell_type": "markdown",
   "metadata": {},
   "source": [
    "##### **[2.2]** Define search spaces and functions"
   ]
  },
  {
   "cell_type": "code",
   "execution_count": 47,
   "metadata": {},
   "outputs": [],
   "source": [
    "# Define search spaces\n",
    "# wk2:\n",
    "# space = {\n",
    "#     'max_depth' : hp.choice('max_depth', range(5, 20, 1)),\n",
    "#     'learning_rate' : hp.quniform('learning_rate', 0.01, 0.5, 0.05),\n",
    "#     'min_child_weight' : hp.quniform('min_child_weight', 1, 10, 1),\n",
    "#     'subsample' : hp.quniform('subsample', 0.1, 1, 0.05),\n",
    "#     'colsample_bytree' : hp.quniform('colsample_bytree', 0.1, 1.0, 0.05)\n",
    "# }\n",
    "\n",
    "#wk3:\n",
    "space = {\n",
    "    'learning_rate' : hp.quniform('learning_rate', 0.01, 0.5, 0.05),\n",
    "    'n_estimators': hp.quniform('n_estimators', 100, 1000, 1),\n",
    "    'eta': hp.quniform('eta', 0.025, 0.5, 0.025),\n",
    "    'max_depth':  hp.choice('max_depth', range(2,20,1)),\n",
    "    'min_child_weight': hp.quniform('min_child_weight', 1, 10, 1),\n",
    "    'subsample': hp.quniform('subsample', 0.1, 1, 0.05),\n",
    "    'gamma': hp.quniform('gamma', 0.1, 1, 0.05),\n",
    "    'colsample_bytree': hp.quniform('colsample_bytree', 0.1, 1, 0.05),\n",
    "    'eval_metric': 'auc',\n",
    "    'objective': 'binary:logistic',\n",
    "    'booster': 'gbtree',\n",
    "    'tree_method': 'exact',\n",
    "    'silent': 1,\n",
    "    'seed': 9999\n",
    "}"
   ]
  },
  {
   "cell_type": "code",
   "execution_count": 68,
   "metadata": {},
   "outputs": [],
   "source": [
    "# Define objective sunction and self-defined loss function (aimming for higher AUC)\n",
    "def objective(space):\n",
    "    from sklearn.model_selection import cross_val_score\n",
    "    \n",
    "    xgboost = XGBClassifier(\n",
    "        max_depth = int(space['max_depth']),\n",
    "        learning_rate = space['learning_rate'],\n",
    "        min_child_weight = space['min_child_weight'],\n",
    "        subsample = space['subsample'],\n",
    "        colsample_bytree = space['colsample_bytree'],\n",
    "        eval_metric = 'auc',\n",
    "        eta = space['eta'],\n",
    "        gamma = space['gamma'],\n",
    "        n_estimators = int(space['n_estimators']) \n",
    "    )\n",
    "    \n",
    "    auc = cross_val_score(xgboost, X_train, y_train, cv=10, scoring=\"roc_auc\").mean()\n",
    "\n",
    "    return{'loss': 1-auc, 'status': STATUS_OK }"
   ]
  },
  {
   "cell_type": "markdown",
   "metadata": {},
   "source": [
    "##### **[2.3]** Get Hyperopted XGBoost model and predict"
   ]
  },
  {
   "cell_type": "code",
   "execution_count": 71,
   "metadata": {},
   "outputs": [
    {
     "name": "stdout",
     "output_type": "stream",
     "text": [
      "100%|██████████████████████████████████████████████████████████████| 3/3 [03:10<00:00, 63.45s/trial, best loss: 0.35501518277749133]\n"
     ]
    }
   ],
   "source": [
    "# Start hyperboosting \n",
    "best = fmin(\n",
    "    fn=objective,   \n",
    "    space=space,       \n",
    "    algo=tpe.suggest,       \n",
    "    max_evals= 3# can use larger value to increase optimization power\n",
    ")"
   ]
  },
  {
   "cell_type": "code",
   "execution_count": 72,
   "metadata": {},
   "outputs": [
    {
     "name": "stdout",
     "output_type": "stream",
     "text": [
      "Best:  {'colsample_bytree': 0.5, 'eta': 0.05, 'gamma': 0.7000000000000001, 'learning_rate': 0.25, 'max_depth': 0, 'min_child_weight': 4.0, 'n_estimators': 874.0, 'subsample': 0.75}\n"
     ]
    }
   ],
   "source": [
    "# Print best model from hyperopt\n",
    "print(\"Best: \", best)"
   ]
  },
  {
   "cell_type": "code",
   "execution_count": null,
   "metadata": {},
   "outputs": [
    {
     "name": "stdout",
     "output_type": "stream",
     "text": [
      "accuracy:0.83375\n",
      "auc:0.5, 1&0\n",
      "auc:0.5, %\n",
      "accuracy_train:0.83359375\n",
      "auc_train:0.5, 1&0\n",
      "auc_train:0.5, %\n"
     ]
    }
   ],
   "source": [
    "# Instantiate best estimator from hyperopt\n",
    "xgboost2 = XGBClassifier(\n",
    "    max_depth = best['max_depth'],\n",
    "    learning_rate = best['learning_rate'],\n",
    "    min_child_weight = best['min_child_weight'],\n",
    "    subsample = best['subsample'],\n",
    "    colsample_bytree = best['colsample_bytree'],\n",
    "    eval_metric = 'auc',\n",
    "    eta = best['eta'],\n",
    "    gamma = best['gamma'],\n",
    "    n_estimators = int(best['n_estimators'])  \n",
    ")\n",
    "\n",
    "\n",
    "# Fit train data\n",
    "xgboost2.fit(X_train, y_train)\n",
    "\n",
    "# Predict validation dataset and print accuracy and auc score\n",
    "y_val_preds = xgboost2.predict(X_val)\n",
    "y_val_proba = xgboost2.predict_proba(X_val)[:,1]\n",
    "print(f'accuracy:{accuracy_score(y_val_preds, y_val)}')\n",
    "print(f'auc:{roc_auc_score(y_val, y_val_preds)}, 1&0')\n",
    "print(f'auc:{roc_auc_score(y_val, y_val_proba)}, %')\n",
    "y_train_preds = xgboost2.predict(X_train)\n",
    "y_train_proba = xgboost2.predict_proba(X_train)[:,1]\n",
    "print(f'accuracy_train:{accuracy_score(y_train_preds, y_train)}')\n",
    "print(f'auc_train:{roc_auc_score(y_train, y_train_preds)}, 1&0')\n",
    "print(f'auc_train:{roc_auc_score(y_train, y_train_proba)}, %')"
   ]
  },
  {
   "cell_type": "markdown",
   "metadata": {},
   "source": [
    "##### **[2.4]** Compare model scores"
   ]
  },
  {
   "cell_type": "markdown",
   "metadata": {},
   "source": [
    "**Note:**\n",
    "\n",
    "Comparing the AUC scores from 4 models using grid search and 1 XGboost model from hyperopt, the best one is default LR, followed by balanced LR then RF.\n",
    "\n",
    "Select default LR as the wk2 classifier.\n",
    "\n",
    "We can see the balanced LR model is with a lower accuracy at 0.65, which needs further investigation next week.\n",
    "\n",
    "Also, the auc for the hyperopted XGboost is suggesting it is overfitted to the train data, which might be resolved next week by reducing the max_evals."
   ]
  },
  {
   "cell_type": "markdown",
   "metadata": {},
   "source": [
    "## 3. Best model Prediction"
   ]
  },
  {
   "cell_type": "markdown",
   "metadata": {},
   "source": [
    "##### **[3.1]** Instantiate best model and predict "
   ]
  },
  {
   "cell_type": "code",
   "execution_count": 17,
   "metadata": {},
   "outputs": [],
   "source": [
    "classifier = LR(C=0.004832930238571752, max_iter=10000)\n",
    "classifier.fit(X_train, y_train)\n",
    "y_val_preds_probs=classifier.predict_proba(X_val)\n",
    "y_val_preds = classifier.predict(X_val)"
   ]
  },
  {
   "cell_type": "markdown",
   "metadata": {},
   "source": [
    "##### **[3.2]** Plot AUC graph"
   ]
  },
  {
   "cell_type": "code",
   "execution_count": 18,
   "metadata": {},
   "outputs": [
    {
     "data": {
      "image/png": "[encoded data removed]",
      "text/plain": [
       "<Figure size 700x500 with 1 Axes>"
      ]
     },
     "metadata": {
      "needs_background": "light"
     },
     "output_type": "display_data"
    },
    {
     "data": {
      "text/plain": [
       "0.709410332427771"
      ]
     },
     "execution_count": 18,
     "metadata": {},
     "output_type": "execute_result"
    }
   ],
   "source": [
    "fpr,tpr,threshold=roc_curve(y_val,y_val_preds_probs[:,1])\n",
    "plt.figure(figsize=(7,5),dpi=100)\n",
    "plt.plot(fpr,tpr,color='green')\n",
    "plt.plot([0,1],[0,1],label='baseline',color='red')\n",
    "plt.xlabel('FPR',fontsize=15)\n",
    "plt.ylabel('TPR',fontsize=15)\n",
    "plt.title('AUC-ROC',fontsize=20)\n",
    "plt.show()\n",
    "roc_auc_score(y_val,y_val_preds_probs[:,1])"
   ]
  },
  {
   "cell_type": "code",
   "execution_count": 19,
   "metadata": {},
   "outputs": [
    {
     "data": {
      "image/png": "[encoded data removed]",
      "text/plain": [
       "<Figure size 432x288 with 2 Axes>"
      ]
     },
     "metadata": {
      "needs_background": "light"
     },
     "output_type": "display_data"
    }
   ],
   "source": [
    "plot_confusion_matrix(classifier, X_val, y_val)\n",
    "plt.show()"
   ]
  },
  {
   "cell_type": "code",
   "execution_count": 20,
   "metadata": {},
   "outputs": [
    {
     "name": "stdout",
     "output_type": "stream",
     "text": [
      "              precision    recall  f1-score   support\n",
      "\n",
      "           0       0.75      0.02      0.04       266\n",
      "           1       0.84      1.00      0.91      1334\n",
      "\n",
      "    accuracy                           0.84      1600\n",
      "   macro avg       0.79      0.51      0.48      1600\n",
      "weighted avg       0.82      0.84      0.77      1600\n",
      "\n"
     ]
    }
   ],
   "source": [
    "print(classification_report(y_val, y_val_preds, labels=[0,1]))"
   ]
  },
  {
   "cell_type": "markdown",
   "metadata": {},
   "source": [
    "According to the auc_score, confusion matrix and the classification report, the model is with XXX precision, XXX recall, XXX accuracy and XXX f1-score, also given the accuracy and auc score are higher in validation set than in train set. It can be conclude that the predicting power of this model is considerably stronger."
   ]
  },
  {
   "cell_type": "markdown",
   "metadata": {},
   "source": [
    "##### **[3.3]** Save to csv"
   ]
  },
  {
   "cell_type": "code",
   "execution_count": 21,
   "metadata": {},
   "outputs": [],
   "source": [
    "X_test = np.load('../data/processed/X_test.npy')\n",
    "predict = classifier.predict_proba(X_test)[:,1]\n",
    "test = pd.read_csv('../data/raw/test.csv')\n",
    "result = pd.DataFrame(data = {'Id': test.loc[:,'Id'], 'TARGET_5Yrs': predict})\n",
    "result.to_csv(\"../data/external/wenying_LR_94cols_gaussian_grids.csv\", index = False)"
   ]
  },
  {
   "cell_type": "code",
   "execution_count": null,
   "metadata": {},
   "outputs": [],
   "source": []
  }
 ],
 "metadata": {
  "kernelspec": {
   "display_name": "Python 3",
   "language": "python",
   "name": "python3"
  },
  "language_info": {
   "codemirror_mode": {
    "name": "ipython",
    "version": 3
   },
   "file_extension": ".py",
   "mimetype": "text/x-python",
   "name": "python",
   "nbconvert_exporter": "python",
   "pygments_lexer": "ipython3",
   "version": "3.7.6"
  },
  "toc-autonumbering": false,
  "toc-showcode": false,
  "toc-showmarkdowntxt": false
 },
 "nbformat": 4,
 "nbformat_minor": 5
}
