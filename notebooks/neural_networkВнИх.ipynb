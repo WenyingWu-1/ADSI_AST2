{
 "cells": [
  {
   "cell_type": "markdown",
   "metadata": {},
   "source": [
    "Prep Dataset"
   ]
  },
  {
   "cell_type": "code",
   "execution_count": 1,
   "metadata": {},
   "outputs": [],
   "source": [
    "%load_ext autoreload\n",
    "%autoreload 2"
   ]
  },
  {
   "cell_type": "code",
   "execution_count": 2,
   "metadata": {},
   "outputs": [],
   "source": [
    "from src.data.sets import load_sets"
   ]
  },
  {
   "cell_type": "code",
   "execution_count": 3,
   "metadata": {},
   "outputs": [],
   "source": [
    "X_train, y_train, X_val, y_val, X_test, y_test = load_sets()"
   ]
  },
  {
   "cell_type": "code",
   "execution_count": 4,
   "metadata": {},
   "outputs": [],
   "source": [
    "from src.models.pytorch import PytorchDataset\n",
    "\n",
    "train_dataset = PytorchDataset(X=X_train, y=y_train)\n",
    "val_dataset = PytorchDataset(X=X_val, y=y_val)\n",
    "test_dataset = PytorchDataset(X=X_test, y=y_test)"
   ]
  },
  {
   "cell_type": "markdown",
   "metadata": {},
   "source": [
    "Baseline Model"
   ]
  },
  {
   "cell_type": "code",
   "execution_count": 5,
   "metadata": {},
   "outputs": [],
   "source": [
    "from src.models.null import NullModel\n",
    "baseline_model = NullModel(target_type='classification')\n",
    "y_base = baseline_model.fit_predict(y_train)"
   ]
  },
  {
   "cell_type": "code",
   "execution_count": 6,
   "metadata": {},
   "outputs": [
    {
     "name": "stdout",
     "output_type": "stream",
     "text": [
      "Accuracy Training: 0.07444192974099043\n",
      "F1 Training: 0.010315310209270104\n"
     ]
    }
   ],
   "source": [
    "from src.models.performance import print_class_perf\n",
    "print_class_perf(y_base, y_train, set_name='Training', average='weighted')"
   ]
  },
  {
   "cell_type": "markdown",
   "metadata": {},
   "source": [
    "Define Architecture"
   ]
  },
  {
   "cell_type": "markdown",
   "metadata": {},
   "source": [
    "This versin uses the model modified from lab5"
   ]
  },
  {
   "cell_type": "code",
   "execution_count": 32,
   "metadata": {},
   "outputs": [],
   "source": [
    "import torch\n",
    "import torch.nn as nn\n",
    "import torch.nn.functional as F\n",
    "class PytorchMultiClass(nn.Module):\n",
    "    def __init__(self, num_features):\n",
    "        super(PytorchMultiClass, self).__init__()\n",
    "        \n",
    "        self.layer_1 = nn.Linear(num_features, 128)\n",
    "        self.layer_out = nn.Linear(128, 104)\n",
    "        self.softmax = nn.Softmax(dim=1)\n",
    "\n",
    "    def forward(self, x):\n",
    "        x = F.dropout(F.relu(self.layer_1(x)), training=self.training)\n",
    "        x = self.layer_out(x)\n",
    "        return self.softmax(x)\n",
    "    \n",
    "model = PytorchMultiClass(X_train.shape[1])"
   ]
  },
  {
   "cell_type": "code",
   "execution_count": 33,
   "metadata": {},
   "outputs": [
    {
     "data": {
      "text/plain": [
       "PytorchMultiClass(\n",
       "  (layer_1): Linear(in_features=6, out_features=128, bias=True)\n",
       "  (layer_out): Linear(in_features=128, out_features=104, bias=True)\n",
       "  (softmax): Softmax(dim=1)\n",
       ")"
      ]
     },
     "execution_count": 33,
     "metadata": {},
     "output_type": "execute_result"
    }
   ],
   "source": [
    "from src.models.pytorch import get_device\n",
    "\n",
    "device = get_device()\n",
    "model.to(device)"
   ]
  },
  {
   "cell_type": "markdown",
   "metadata": {},
   "source": [
    "Train Model"
   ]
  },
  {
   "cell_type": "code",
   "execution_count": 28,
   "metadata": {},
   "outputs": [],
   "source": [
    "import torch\n",
    "import torch.nn as nn"
   ]
  },
  {
   "cell_type": "code",
   "execution_count": 29,
   "metadata": {},
   "outputs": [],
   "source": [
    "criterion = nn.CrossEntropyLoss()\n",
    "optimizer = torch.optim.Adam(model.parameters(), lr=0.1)"
   ]
  },
  {
   "cell_type": "code",
   "execution_count": 35,
   "metadata": {},
   "outputs": [],
   "source": [
    "N_EPOCHS = 20\n",
    "BATCH_SIZE = 1000"
   ]
  },
  {
   "cell_type": "code",
   "execution_count": 36,
   "metadata": {},
   "outputs": [
    {
     "name": "stdout",
     "output_type": "stream",
     "text": [
      "Epoch: 0\n",
      "\t(train)\t|\tLoss: 0.0046\t|\tAcc: 1.0%\n",
      "\t(valid)\t|\tLoss: 0.0046\t|\tAcc: 0.8%\n",
      "Epoch: 1\n",
      "\t(train)\t|\tLoss: 0.0046\t|\tAcc: 1.0%\n",
      "\t(valid)\t|\tLoss: 0.0046\t|\tAcc: 0.8%\n",
      "Epoch: 2\n",
      "\t(train)\t|\tLoss: 0.0046\t|\tAcc: 1.0%\n",
      "\t(valid)\t|\tLoss: 0.0046\t|\tAcc: 0.8%\n",
      "Epoch: 3\n",
      "\t(train)\t|\tLoss: 0.0046\t|\tAcc: 1.0%\n",
      "\t(valid)\t|\tLoss: 0.0046\t|\tAcc: 0.8%\n",
      "Epoch: 4\n",
      "\t(train)\t|\tLoss: 0.0046\t|\tAcc: 1.0%\n",
      "\t(valid)\t|\tLoss: 0.0046\t|\tAcc: 0.8%\n",
      "Epoch: 5\n",
      "\t(train)\t|\tLoss: 0.0046\t|\tAcc: 1.0%\n",
      "\t(valid)\t|\tLoss: 0.0046\t|\tAcc: 0.8%\n",
      "Epoch: 6\n",
      "\t(train)\t|\tLoss: 0.0046\t|\tAcc: 1.0%\n",
      "\t(valid)\t|\tLoss: 0.0046\t|\tAcc: 0.8%\n",
      "Epoch: 7\n",
      "\t(train)\t|\tLoss: 0.0046\t|\tAcc: 1.0%\n",
      "\t(valid)\t|\tLoss: 0.0046\t|\tAcc: 0.8%\n",
      "Epoch: 8\n",
      "\t(train)\t|\tLoss: 0.0046\t|\tAcc: 1.0%\n",
      "\t(valid)\t|\tLoss: 0.0046\t|\tAcc: 0.8%\n",
      "Epoch: 9\n",
      "\t(train)\t|\tLoss: 0.0046\t|\tAcc: 1.0%\n",
      "\t(valid)\t|\tLoss: 0.0046\t|\tAcc: 0.8%\n",
      "Epoch: 10\n",
      "\t(train)\t|\tLoss: 0.0046\t|\tAcc: 1.0%\n",
      "\t(valid)\t|\tLoss: 0.0046\t|\tAcc: 0.8%\n",
      "Epoch: 11\n",
      "\t(train)\t|\tLoss: 0.0046\t|\tAcc: 1.1%\n",
      "\t(valid)\t|\tLoss: 0.0046\t|\tAcc: 0.8%\n",
      "Epoch: 12\n",
      "\t(train)\t|\tLoss: 0.0046\t|\tAcc: 1.0%\n",
      "\t(valid)\t|\tLoss: 0.0046\t|\tAcc: 0.8%\n",
      "Epoch: 13\n",
      "\t(train)\t|\tLoss: 0.0046\t|\tAcc: 1.0%\n",
      "\t(valid)\t|\tLoss: 0.0046\t|\tAcc: 0.8%\n",
      "Epoch: 14\n",
      "\t(train)\t|\tLoss: 0.0046\t|\tAcc: 1.0%\n",
      "\t(valid)\t|\tLoss: 0.0046\t|\tAcc: 0.8%\n",
      "Epoch: 15\n",
      "\t(train)\t|\tLoss: 0.0046\t|\tAcc: 1.0%\n",
      "\t(valid)\t|\tLoss: 0.0046\t|\tAcc: 0.8%\n",
      "Epoch: 16\n",
      "\t(train)\t|\tLoss: 0.0046\t|\tAcc: 1.0%\n",
      "\t(valid)\t|\tLoss: 0.0046\t|\tAcc: 0.8%\n",
      "Epoch: 17\n",
      "\t(train)\t|\tLoss: 0.0046\t|\tAcc: 1.0%\n",
      "\t(valid)\t|\tLoss: 0.0046\t|\tAcc: 0.8%\n",
      "Epoch: 18\n",
      "\t(train)\t|\tLoss: 0.0046\t|\tAcc: 1.0%\n",
      "\t(valid)\t|\tLoss: 0.0046\t|\tAcc: 0.8%\n",
      "Epoch: 19\n",
      "\t(train)\t|\tLoss: 0.0046\t|\tAcc: 1.0%\n",
      "\t(valid)\t|\tLoss: 0.0046\t|\tAcc: 0.8%\n"
     ]
    }
   ],
   "source": [
    "#use train_classification, test_classification defined in lab5\n",
    "from src.models.pytorch import train_classification, test_classification\n",
    "\n",
    "for epoch in range(N_EPOCHS):\n",
    "    train_loss, train_acc = train_classification(train_dataset, model=model, criterion=criterion, optimizer=optimizer, batch_size=BATCH_SIZE, device=device)\n",
    "    valid_loss, valid_acc = test_classification(val_dataset, model=model, criterion=criterion, batch_size=BATCH_SIZE, device=device)\n",
    "\n",
    "    print(f'Epoch: {epoch}')\n",
    "    print(f'\\t(train)\\t|\\tLoss: {train_loss:.4f}\\t|\\tAcc: {train_acc * 100:.1f}%')\n",
    "    print(f'\\t(valid)\\t|\\tLoss: {valid_loss:.4f}\\t|\\tAcc: {valid_acc * 100:.1f}%')"
   ]
  },
  {
   "cell_type": "code",
   "execution_count": 38,
   "metadata": {},
   "outputs": [],
   "source": [
    "# torch.save(model, \"../models/pytorch_nn_v1.pt\")"
   ]
  },
  {
   "cell_type": "code",
   "execution_count": 34,
   "metadata": {},
   "outputs": [
    {
     "name": "stdout",
     "output_type": "stream",
     "text": [
      "\tLoss: 0.0005\t|\tAccuracy: 0.0\n"
     ]
    }
   ],
   "source": [
    "test_loss, test_acc = test_classification(test_dataset, model=model, criterion=criterion, batch_size=BATCH_SIZE, device=device)\n",
    "print(f'\\tLoss: {test_loss:.4f}\\t|\\tAccuracy: {test_acc:.1f}')"
   ]
  },
  {
   "cell_type": "markdown",
   "metadata": {},
   "source": [
    "try other models"
   ]
  },
  {
   "cell_type": "code",
   "execution_count": null,
   "metadata": {},
   "outputs": [],
   "source": []
  }
 ],
 "metadata": {
  "kernelspec": {
   "display_name": "Python 3",
   "language": "python",
   "name": "python3"
  },
  "language_info": {
   "codemirror_mode": {
    "name": "ipython",
    "version": 3
   },
   "file_extension": ".py",
   "mimetype": "text/x-python",
   "name": "python",
   "nbconvert_exporter": "python",
   "pygments_lexer": "ipython3",
   "version": "3.7.6"
  }
 },
 "nbformat": 4,
 "nbformat_minor": 4
}
