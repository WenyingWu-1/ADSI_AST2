{
 "cells": [
  {
   "cell_type": "markdown",
   "metadata": {},
   "source": [
    "# Data Preperation Version3\n",
    "by Wenying Wu 14007025\n",
    "\n",
    "Prerequisite:\n",
    "- Docker\n",
    "\n",
    "Sections:\n",
    "- EDA\n",
    "- Data Preperation\n",
    "\n",
    "**NOTE:** This version of data preparation is created because the first and second versions are not performing well on the nerual network model. And I found Akshaj Verma's article on https://towardsdatascience.com/pytorch-tabular-multiclass-classification-9f8211a123ab. He used Weighted Sampling when splitting dataset and a more complex neural network architecture than the one in lab 3. This notebook and neural_network_model4.ipynb are following the methodology Akshaj used to experiment the result. "
   ]
  },
  {
   "cell_type": "markdown",
   "metadata": {},
   "source": [
    "## 1. EDA on dataset"
   ]
  },
  {
   "cell_type": "markdown",
   "metadata": {},
   "source": [
    "### 1.1 Load magic command"
   ]
  },
  {
   "cell_type": "code",
   "execution_count": 1,
   "metadata": {},
   "outputs": [],
   "source": [
    "%load_ext autoreload\n",
    "%autoreload 2"
   ]
  },
  {
   "cell_type": "markdown",
   "metadata": {},
   "source": [
    "### 1.2 Import packages and data set"
   ]
  },
  {
   "cell_type": "code",
   "execution_count": 2,
   "metadata": {},
   "outputs": [],
   "source": [
    "import pandas as pd\n",
    "import numpy as np\n",
    "import seaborn as sns\n",
    "from matplotlib import pyplot as plt"
   ]
  },
  {
   "cell_type": "code",
   "execution_count": 3,
   "metadata": {},
   "outputs": [
    {
     "name": "stdout",
     "output_type": "stream",
     "text": [
      "/home/jovyan/work/notebooks\n"
     ]
    }
   ],
   "source": [
    "# Check working directory\n",
    "!pwd"
   ]
  },
  {
   "cell_type": "code",
   "execution_count": 4,
   "metadata": {},
   "outputs": [],
   "source": [
    "# Read dataset in df\n",
    "df = pd.read_csv('../data/raw/beer_reviews.csv')"
   ]
  },
  {
   "cell_type": "markdown",
   "metadata": {},
   "source": [
    "### 1.3 EDA"
   ]
  },
  {
   "cell_type": "code",
   "execution_count": 5,
   "metadata": {},
   "outputs": [
    {
     "data": {
      "text/html": [
       "<div>\n",
       "<style scoped>\n",
       "    .dataframe tbody tr th:only-of-type {\n",
       "        vertical-align: middle;\n",
       "    }\n",
       "\n",
       "    .dataframe tbody tr th {\n",
       "        vertical-align: top;\n",
       "    }\n",
       "\n",
       "    .dataframe thead th {\n",
       "        text-align: right;\n",
       "    }\n",
       "</style>\n",
       "<table border=\"1\" class=\"dataframe\">\n",
       "  <thead>\n",
       "    <tr style=\"text-align: right;\">\n",
       "      <th></th>\n",
       "      <th>brewery_id</th>\n",
       "      <th>brewery_name</th>\n",
       "      <th>review_time</th>\n",
       "      <th>review_overall</th>\n",
       "      <th>review_aroma</th>\n",
       "      <th>review_appearance</th>\n",
       "      <th>review_profilename</th>\n",
       "      <th>beer_style</th>\n",
       "      <th>review_palate</th>\n",
       "      <th>review_taste</th>\n",
       "      <th>beer_name</th>\n",
       "      <th>beer_abv</th>\n",
       "      <th>beer_beerid</th>\n",
       "    </tr>\n",
       "  </thead>\n",
       "  <tbody>\n",
       "    <tr>\n",
       "      <th>0</th>\n",
       "      <td>10325</td>\n",
       "      <td>Vecchio Birraio</td>\n",
       "      <td>1234817823</td>\n",
       "      <td>1.5</td>\n",
       "      <td>2.0</td>\n",
       "      <td>2.5</td>\n",
       "      <td>stcules</td>\n",
       "      <td>Hefeweizen</td>\n",
       "      <td>1.5</td>\n",
       "      <td>1.5</td>\n",
       "      <td>Sausa Weizen</td>\n",
       "      <td>5.0</td>\n",
       "      <td>47986</td>\n",
       "    </tr>\n",
       "    <tr>\n",
       "      <th>1</th>\n",
       "      <td>10325</td>\n",
       "      <td>Vecchio Birraio</td>\n",
       "      <td>1235915097</td>\n",
       "      <td>3.0</td>\n",
       "      <td>2.5</td>\n",
       "      <td>3.0</td>\n",
       "      <td>stcules</td>\n",
       "      <td>English Strong Ale</td>\n",
       "      <td>3.0</td>\n",
       "      <td>3.0</td>\n",
       "      <td>Red Moon</td>\n",
       "      <td>6.2</td>\n",
       "      <td>48213</td>\n",
       "    </tr>\n",
       "    <tr>\n",
       "      <th>2</th>\n",
       "      <td>10325</td>\n",
       "      <td>Vecchio Birraio</td>\n",
       "      <td>1235916604</td>\n",
       "      <td>3.0</td>\n",
       "      <td>2.5</td>\n",
       "      <td>3.0</td>\n",
       "      <td>stcules</td>\n",
       "      <td>Foreign / Export Stout</td>\n",
       "      <td>3.0</td>\n",
       "      <td>3.0</td>\n",
       "      <td>Black Horse Black Beer</td>\n",
       "      <td>6.5</td>\n",
       "      <td>48215</td>\n",
       "    </tr>\n",
       "    <tr>\n",
       "      <th>3</th>\n",
       "      <td>10325</td>\n",
       "      <td>Vecchio Birraio</td>\n",
       "      <td>1234725145</td>\n",
       "      <td>3.0</td>\n",
       "      <td>3.0</td>\n",
       "      <td>3.5</td>\n",
       "      <td>stcules</td>\n",
       "      <td>German Pilsener</td>\n",
       "      <td>2.5</td>\n",
       "      <td>3.0</td>\n",
       "      <td>Sausa Pils</td>\n",
       "      <td>5.0</td>\n",
       "      <td>47969</td>\n",
       "    </tr>\n",
       "    <tr>\n",
       "      <th>4</th>\n",
       "      <td>1075</td>\n",
       "      <td>Caldera Brewing Company</td>\n",
       "      <td>1293735206</td>\n",
       "      <td>4.0</td>\n",
       "      <td>4.5</td>\n",
       "      <td>4.0</td>\n",
       "      <td>johnmichaelsen</td>\n",
       "      <td>American Double / Imperial IPA</td>\n",
       "      <td>4.0</td>\n",
       "      <td>4.5</td>\n",
       "      <td>Cauldron DIPA</td>\n",
       "      <td>7.7</td>\n",
       "      <td>64883</td>\n",
       "    </tr>\n",
       "  </tbody>\n",
       "</table>\n",
       "</div>"
      ],
      "text/plain": [
       "   brewery_id             brewery_name  review_time  review_overall  \\\n",
       "0       10325          Vecchio Birraio   1234817823             1.5   \n",
       "1       10325          Vecchio Birraio   1235915097             3.0   \n",
       "2       10325          Vecchio Birraio   1235916604             3.0   \n",
       "3       10325          Vecchio Birraio   1234725145             3.0   \n",
       "4        1075  Caldera Brewing Company   1293735206             4.0   \n",
       "\n",
       "   review_aroma  review_appearance review_profilename  \\\n",
       "0           2.0                2.5            stcules   \n",
       "1           2.5                3.0            stcules   \n",
       "2           2.5                3.0            stcules   \n",
       "3           3.0                3.5            stcules   \n",
       "4           4.5                4.0     johnmichaelsen   \n",
       "\n",
       "                       beer_style  review_palate  review_taste  \\\n",
       "0                      Hefeweizen            1.5           1.5   \n",
       "1              English Strong Ale            3.0           3.0   \n",
       "2          Foreign / Export Stout            3.0           3.0   \n",
       "3                 German Pilsener            2.5           3.0   \n",
       "4  American Double / Imperial IPA            4.0           4.5   \n",
       "\n",
       "                beer_name  beer_abv  beer_beerid  \n",
       "0            Sausa Weizen       5.0        47986  \n",
       "1                Red Moon       6.2        48213  \n",
       "2  Black Horse Black Beer       6.5        48215  \n",
       "3              Sausa Pils       5.0        47969  \n",
       "4           Cauldron DIPA       7.7        64883  "
      ]
     },
     "execution_count": 5,
     "metadata": {},
     "output_type": "execute_result"
    }
   ],
   "source": [
    "df.head()"
   ]
  },
  {
   "cell_type": "code",
   "execution_count": 6,
   "metadata": {},
   "outputs": [
    {
     "data": {
      "text/plain": [
       "(1586614, 13)"
      ]
     },
     "execution_count": 6,
     "metadata": {},
     "output_type": "execute_result"
    }
   ],
   "source": [
    "df.shape"
   ]
  },
  {
   "cell_type": "code",
   "execution_count": 7,
   "metadata": {},
   "outputs": [
    {
     "data": {
      "text/plain": [
       "Index(['brewery_id', 'brewery_name', 'review_time', 'review_overall',\n",
       "       'review_aroma', 'review_appearance', 'review_profilename', 'beer_style',\n",
       "       'review_palate', 'review_taste', 'beer_name', 'beer_abv',\n",
       "       'beer_beerid'],\n",
       "      dtype='object')"
      ]
     },
     "execution_count": 7,
     "metadata": {},
     "output_type": "execute_result"
    }
   ],
   "source": [
    "df.columns"
   ]
  },
  {
   "cell_type": "code",
   "execution_count": 8,
   "metadata": {},
   "outputs": [
    {
     "name": "stdout",
     "output_type": "stream",
     "text": [
      "<class 'pandas.core.frame.DataFrame'>\n",
      "RangeIndex: 1586614 entries, 0 to 1586613\n",
      "Data columns (total 13 columns):\n",
      "brewery_id            1586614 non-null int64\n",
      "brewery_name          1586599 non-null object\n",
      "review_time           1586614 non-null int64\n",
      "review_overall        1586614 non-null float64\n",
      "review_aroma          1586614 non-null float64\n",
      "review_appearance     1586614 non-null float64\n",
      "review_profilename    1586266 non-null object\n",
      "beer_style            1586614 non-null object\n",
      "review_palate         1586614 non-null float64\n",
      "review_taste          1586614 non-null float64\n",
      "beer_name             1586614 non-null object\n",
      "beer_abv              1518829 non-null float64\n",
      "beer_beerid           1586614 non-null int64\n",
      "dtypes: float64(6), int64(3), object(4)\n",
      "memory usage: 157.4+ MB\n"
     ]
    }
   ],
   "source": [
    "df.info()"
   ]
  },
  {
   "cell_type": "code",
   "execution_count": 9,
   "metadata": {},
   "outputs": [
    {
     "data": {
      "text/html": [
       "<div>\n",
       "<style scoped>\n",
       "    .dataframe tbody tr th:only-of-type {\n",
       "        vertical-align: middle;\n",
       "    }\n",
       "\n",
       "    .dataframe tbody tr th {\n",
       "        vertical-align: top;\n",
       "    }\n",
       "\n",
       "    .dataframe thead th {\n",
       "        text-align: right;\n",
       "    }\n",
       "</style>\n",
       "<table border=\"1\" class=\"dataframe\">\n",
       "  <thead>\n",
       "    <tr style=\"text-align: right;\">\n",
       "      <th></th>\n",
       "      <th>brewery_id</th>\n",
       "      <th>review_time</th>\n",
       "      <th>review_overall</th>\n",
       "      <th>review_aroma</th>\n",
       "      <th>review_appearance</th>\n",
       "      <th>review_palate</th>\n",
       "      <th>review_taste</th>\n",
       "      <th>beer_abv</th>\n",
       "      <th>beer_beerid</th>\n",
       "    </tr>\n",
       "  </thead>\n",
       "  <tbody>\n",
       "    <tr>\n",
       "      <th>count</th>\n",
       "      <td>1.586614e+06</td>\n",
       "      <td>1.586614e+06</td>\n",
       "      <td>1.586614e+06</td>\n",
       "      <td>1.586614e+06</td>\n",
       "      <td>1.586614e+06</td>\n",
       "      <td>1.586614e+06</td>\n",
       "      <td>1.586614e+06</td>\n",
       "      <td>1.518829e+06</td>\n",
       "      <td>1.586614e+06</td>\n",
       "    </tr>\n",
       "    <tr>\n",
       "      <th>mean</th>\n",
       "      <td>3.130099e+03</td>\n",
       "      <td>1.224089e+09</td>\n",
       "      <td>3.815581e+00</td>\n",
       "      <td>3.735636e+00</td>\n",
       "      <td>3.841642e+00</td>\n",
       "      <td>3.743701e+00</td>\n",
       "      <td>3.792860e+00</td>\n",
       "      <td>7.042387e+00</td>\n",
       "      <td>2.171279e+04</td>\n",
       "    </tr>\n",
       "    <tr>\n",
       "      <th>std</th>\n",
       "      <td>5.578104e+03</td>\n",
       "      <td>7.654427e+07</td>\n",
       "      <td>7.206219e-01</td>\n",
       "      <td>6.976167e-01</td>\n",
       "      <td>6.160928e-01</td>\n",
       "      <td>6.822184e-01</td>\n",
       "      <td>7.319696e-01</td>\n",
       "      <td>2.322526e+00</td>\n",
       "      <td>2.181834e+04</td>\n",
       "    </tr>\n",
       "    <tr>\n",
       "      <th>min</th>\n",
       "      <td>1.000000e+00</td>\n",
       "      <td>8.406720e+08</td>\n",
       "      <td>0.000000e+00</td>\n",
       "      <td>1.000000e+00</td>\n",
       "      <td>0.000000e+00</td>\n",
       "      <td>1.000000e+00</td>\n",
       "      <td>1.000000e+00</td>\n",
       "      <td>1.000000e-02</td>\n",
       "      <td>3.000000e+00</td>\n",
       "    </tr>\n",
       "    <tr>\n",
       "      <th>25%</th>\n",
       "      <td>1.430000e+02</td>\n",
       "      <td>1.173224e+09</td>\n",
       "      <td>3.500000e+00</td>\n",
       "      <td>3.500000e+00</td>\n",
       "      <td>3.500000e+00</td>\n",
       "      <td>3.500000e+00</td>\n",
       "      <td>3.500000e+00</td>\n",
       "      <td>5.200000e+00</td>\n",
       "      <td>1.717000e+03</td>\n",
       "    </tr>\n",
       "    <tr>\n",
       "      <th>50%</th>\n",
       "      <td>4.290000e+02</td>\n",
       "      <td>1.239203e+09</td>\n",
       "      <td>4.000000e+00</td>\n",
       "      <td>4.000000e+00</td>\n",
       "      <td>4.000000e+00</td>\n",
       "      <td>4.000000e+00</td>\n",
       "      <td>4.000000e+00</td>\n",
       "      <td>6.500000e+00</td>\n",
       "      <td>1.390600e+04</td>\n",
       "    </tr>\n",
       "    <tr>\n",
       "      <th>75%</th>\n",
       "      <td>2.372000e+03</td>\n",
       "      <td>1.288568e+09</td>\n",
       "      <td>4.500000e+00</td>\n",
       "      <td>4.000000e+00</td>\n",
       "      <td>4.000000e+00</td>\n",
       "      <td>4.000000e+00</td>\n",
       "      <td>4.500000e+00</td>\n",
       "      <td>8.500000e+00</td>\n",
       "      <td>3.944100e+04</td>\n",
       "    </tr>\n",
       "    <tr>\n",
       "      <th>max</th>\n",
       "      <td>2.800300e+04</td>\n",
       "      <td>1.326285e+09</td>\n",
       "      <td>5.000000e+00</td>\n",
       "      <td>5.000000e+00</td>\n",
       "      <td>5.000000e+00</td>\n",
       "      <td>5.000000e+00</td>\n",
       "      <td>5.000000e+00</td>\n",
       "      <td>5.770000e+01</td>\n",
       "      <td>7.731700e+04</td>\n",
       "    </tr>\n",
       "  </tbody>\n",
       "</table>\n",
       "</div>"
      ],
      "text/plain": [
       "         brewery_id   review_time  review_overall  review_aroma  \\\n",
       "count  1.586614e+06  1.586614e+06    1.586614e+06  1.586614e+06   \n",
       "mean   3.130099e+03  1.224089e+09    3.815581e+00  3.735636e+00   \n",
       "std    5.578104e+03  7.654427e+07    7.206219e-01  6.976167e-01   \n",
       "min    1.000000e+00  8.406720e+08    0.000000e+00  1.000000e+00   \n",
       "25%    1.430000e+02  1.173224e+09    3.500000e+00  3.500000e+00   \n",
       "50%    4.290000e+02  1.239203e+09    4.000000e+00  4.000000e+00   \n",
       "75%    2.372000e+03  1.288568e+09    4.500000e+00  4.000000e+00   \n",
       "max    2.800300e+04  1.326285e+09    5.000000e+00  5.000000e+00   \n",
       "\n",
       "       review_appearance  review_palate  review_taste      beer_abv  \\\n",
       "count       1.586614e+06   1.586614e+06  1.586614e+06  1.518829e+06   \n",
       "mean        3.841642e+00   3.743701e+00  3.792860e+00  7.042387e+00   \n",
       "std         6.160928e-01   6.822184e-01  7.319696e-01  2.322526e+00   \n",
       "min         0.000000e+00   1.000000e+00  1.000000e+00  1.000000e-02   \n",
       "25%         3.500000e+00   3.500000e+00  3.500000e+00  5.200000e+00   \n",
       "50%         4.000000e+00   4.000000e+00  4.000000e+00  6.500000e+00   \n",
       "75%         4.000000e+00   4.000000e+00  4.500000e+00  8.500000e+00   \n",
       "max         5.000000e+00   5.000000e+00  5.000000e+00  5.770000e+01   \n",
       "\n",
       "        beer_beerid  \n",
       "count  1.586614e+06  \n",
       "mean   2.171279e+04  \n",
       "std    2.181834e+04  \n",
       "min    3.000000e+00  \n",
       "25%    1.717000e+03  \n",
       "50%    1.390600e+04  \n",
       "75%    3.944100e+04  \n",
       "max    7.731700e+04  "
      ]
     },
     "execution_count": 9,
     "metadata": {},
     "output_type": "execute_result"
    }
   ],
   "source": [
    "df.describe()"
   ]
  },
  {
   "cell_type": "markdown",
   "metadata": {},
   "source": [
    "**Note:** 57.7 beer_abv seems impossible, but according to research, there are a few beers with abv over 57.7. So data is deemed to be cleaned at this point."
   ]
  },
  {
   "cell_type": "code",
   "execution_count": 10,
   "metadata": {},
   "outputs": [
    {
     "data": {
      "image/png": "[encoded data removed]",
      "text/plain": [
       "<Figure size 2160x1080 with 1 Axes>"
      ]
     },
     "metadata": {
      "needs_background": "light"
     },
     "output_type": "display_data"
    }
   ],
   "source": [
    "plt.figure(figsize=(30,15))\n",
    "ax = sns.countplot(x = 'beer_style', data=df)"
   ]
  },
  {
   "cell_type": "markdown",
   "metadata": {},
   "source": [
    "**Note:** Imbalanced dataset detected, SMOTE or other methods to improve model performance might required."
   ]
  },
  {
   "cell_type": "code",
   "execution_count": 11,
   "metadata": {},
   "outputs": [
    {
     "data": {
      "text/plain": [
       "American IPA                        117586\n",
       "American Double / Imperial IPA       85977\n",
       "American Pale Ale (APA)              63469\n",
       "Russian Imperial Stout               54129\n",
       "American Double / Imperial Stout     50705\n",
       "                                     ...  \n",
       "Gose                                   686\n",
       "Faro                                   609\n",
       "Roggenbier                             466\n",
       "Kvass                                  297\n",
       "Happoshu                               241\n",
       "Name: beer_style, Length: 104, dtype: int64"
      ]
     },
     "execution_count": 11,
     "metadata": {},
     "output_type": "execute_result"
    }
   ],
   "source": [
    "df['beer_style'].value_counts()"
   ]
  },
  {
   "cell_type": "code",
   "execution_count": 12,
   "metadata": {},
   "outputs": [
    {
     "data": {
      "text/plain": [
       "American IPA                        7.411128\n",
       "American Double / Imperial IPA      5.418898\n",
       "American Pale Ale (APA)             4.000280\n",
       "Russian Imperial Stout              3.411605\n",
       "American Double / Imperial Stout    3.195799\n",
       "                                      ...   \n",
       "Gose                                0.043237\n",
       "Faro                                0.038384\n",
       "Roggenbier                          0.029371\n",
       "Kvass                               0.018719\n",
       "Happoshu                            0.015190\n",
       "Name: beer_style, Length: 104, dtype: float64"
      ]
     },
     "execution_count": 12,
     "metadata": {},
     "output_type": "execute_result"
    }
   ],
   "source": [
    "df['beer_style'].value_counts()/len(df)*100"
   ]
  },
  {
   "cell_type": "markdown",
   "metadata": {},
   "source": [
    "**Note:** Highest percentage of a beer style is 7.4% and the lowest is 0.015%"
   ]
  },
  {
   "cell_type": "markdown",
   "metadata": {},
   "source": [
    "**Check for categorical columns**"
   ]
  },
  {
   "cell_type": "code",
   "execution_count": 13,
   "metadata": {},
   "outputs": [],
   "source": [
    "cat_cols = ['brewery_name', 'review_profilename', 'beer_style', 'beer_name']"
   ]
  },
  {
   "cell_type": "code",
   "execution_count": 14,
   "metadata": {},
   "outputs": [
    {
     "name": "stdout",
     "output_type": "stream",
     "text": [
      "Column - brewery_name: 5743 unique values\n",
      "['Vecchio Birraio' 'Caldera Brewing Company' 'Amstel Brouwerij B. V.' ...\n",
      " 'Wissey Valley Brewery' 'Outback Brewery Pty Ltd'\n",
      " 'Georg Meinel Bierbrauerei KG']\n",
      "\n",
      "Column - review_profilename: 33388 unique values\n",
      "['stcules' 'johnmichaelsen' 'oline73' ... 'hogshead' 'NyackNicky'\n",
      " 'joeebbs']\n",
      "\n",
      "Column - beer_style: 104 unique values\n",
      "['Hefeweizen' 'English Strong Ale' 'Foreign / Export Stout'\n",
      " 'German Pilsener' 'American Double / Imperial IPA' 'Herbed / Spiced Beer'\n",
      " 'Light Lager' 'Oatmeal Stout' 'American Pale Lager' 'Rauchbier'\n",
      " 'American Pale Ale (APA)' 'American Porter' 'Belgian Strong Dark Ale'\n",
      " 'American IPA' 'American Stout' 'Russian Imperial Stout'\n",
      " 'American Amber / Red Ale' 'American Strong Ale' 'Märzen / Oktoberfest'\n",
      " 'American Adjunct Lager' 'American Blonde Ale' 'Euro Pale Lager'\n",
      " 'English Brown Ale' 'Scotch Ale / Wee Heavy' 'Fruit / Vegetable Beer'\n",
      " 'American Double / Imperial Stout' 'Belgian Pale Ale' 'English Bitter'\n",
      " 'English Porter' 'Irish Dry Stout' 'American Barleywine'\n",
      " 'Belgian Strong Pale Ale' 'Doppelbock' 'Maibock / Helles Bock'\n",
      " 'Pumpkin Ale' 'Dortmunder / Export Lager' 'Euro Strong Lager'\n",
      " 'Euro Dark Lager' 'Low Alcohol Beer' 'Weizenbock'\n",
      " 'Extra Special / Strong Bitter (ESB)' 'Bock'\n",
      " 'English India Pale Ale (IPA)' 'Altbier' 'Kölsch' 'Munich Dunkel Lager'\n",
      " 'Rye Beer' 'American Pale Wheat Ale' 'Milk / Sweet Stout' 'Schwarzbier'\n",
      " 'Vienna Lager' 'American Amber / Red Lager' 'Scottish Ale' 'Witbier'\n",
      " 'American Black Ale' 'Saison / Farmhouse Ale' 'English Barleywine'\n",
      " 'English Dark Mild Ale' 'California Common / Steam Beer' 'Czech Pilsener'\n",
      " 'English Pale Ale' 'Belgian IPA' 'Tripel' 'Flanders Oud Bruin'\n",
      " 'American Brown Ale' 'Winter Warmer' 'Smoked Beer' 'Dubbel'\n",
      " 'Flanders Red Ale' 'Dunkelweizen' 'Roggenbier'\n",
      " 'Keller Bier / Zwickel Bier' 'Belgian Dark Ale' 'Bière de Garde'\n",
      " 'Japanese Rice Lager' 'Black & Tan' 'Irish Red Ale' 'Chile Beer'\n",
      " 'English Stout' 'Cream Ale' 'American Wild Ale'\n",
      " 'American Double / Imperial Pilsner'\n",
      " 'Scottish Gruit / Ancient Herbed Ale' 'Wheatwine'\n",
      " 'American Dark Wheat Ale' 'American Malt Liquor' 'Baltic Porter'\n",
      " 'Munich Helles Lager' 'Kristalweizen' 'English Pale Mild Ale'\n",
      " 'Lambic - Fruit' 'Old Ale' 'Quadrupel (Quad)' 'Braggot'\n",
      " 'Lambic - Unblended' 'Eisbock' 'Berliner Weissbier' 'Kvass' 'Faro'\n",
      " 'Gueuze' 'Gose' 'Happoshu' 'Sahti' 'Bière de Champagne / Bière Brut']\n",
      "\n",
      "Column - beer_name: 56857 unique values\n",
      "['Sausa Weizen' 'Red Moon' 'Black Horse Black Beer' ... 'Baron Von Weizen'\n",
      " 'Resolution #2' \"The Horseman's Ale\"]\n",
      "\n"
     ]
    }
   ],
   "source": [
    "from src.data.data_ast2 import show_cat_col_info\n",
    "show_cat_col_info(df,cat_cols)"
   ]
  },
  {
   "cell_type": "markdown",
   "metadata": {},
   "source": [
    "**Check for null values**"
   ]
  },
  {
   "cell_type": "code",
   "execution_count": 15,
   "metadata": {},
   "outputs": [
    {
     "data": {
      "text/plain": [
       "brewery_id                0\n",
       "brewery_name             15\n",
       "review_time               0\n",
       "review_overall            0\n",
       "review_aroma              0\n",
       "review_appearance         0\n",
       "review_profilename      348\n",
       "beer_style                0\n",
       "review_palate             0\n",
       "review_taste              0\n",
       "beer_name                 0\n",
       "beer_abv              67785\n",
       "beer_beerid               0\n",
       "dtype: int64"
      ]
     },
     "execution_count": 15,
     "metadata": {},
     "output_type": "execute_result"
    }
   ],
   "source": [
    "df.isnull().sum()"
   ]
  },
  {
   "cell_type": "code",
   "execution_count": 16,
   "metadata": {},
   "outputs": [
    {
     "data": {
      "text/plain": [
       "0.0009454095325012889"
      ]
     },
     "execution_count": 16,
     "metadata": {},
     "output_type": "execute_result"
    }
   ],
   "source": [
    "df.brewery_name.isnull().sum()/len(df)*100"
   ]
  },
  {
   "cell_type": "code",
   "execution_count": 17,
   "metadata": {},
   "outputs": [
    {
     "data": {
      "text/plain": [
       "4.272305677373325"
      ]
     },
     "execution_count": 17,
     "metadata": {},
     "output_type": "execute_result"
    }
   ],
   "source": [
    "df.beer_abv.isnull().sum()/len(df)*100"
   ]
  },
  {
   "cell_type": "markdown",
   "metadata": {},
   "source": [
    "Only small amount of data (around 4%) contains null value, given the total data amount is big enough, decide to drop these rows containing null value"
   ]
  },
  {
   "cell_type": "markdown",
   "metadata": {},
   "source": [
    "### 1.4 EDA summary"
   ]
  },
  {
   "cell_type": "markdown",
   "metadata": {},
   "source": [
    "From the Assignment breif, API Expected Parameter are: ['brewery_name', 'review_aroma', 'review_appearance', 'review_palate', 'review_taste', 'beer_abv'].\n",
    "All variables are numerical except for 'brewery_name' and no major data problem was found. Two minor problem was found and data will be cleaned accordingly:\n",
    "- 'beer_abv' has values seems wrong (max=57.7): Research shown this value is possible, no cleaning required. \n",
    "- Around 4% null value was found in 'brewery_name' and 'beer_abv': these rows are to be deleted given the dataset is considerably big."
   ]
  },
  {
   "cell_type": "code",
   "execution_count": 18,
   "metadata": {},
   "outputs": [],
   "source": [
    "input_cols = ['brewery_name', 'review_aroma', 'review_appearance', 'review_palate', 'review_taste', 'beer_abv']\n",
    "# feature to be predicted: \n",
    "target = 'beer_style'"
   ]
  },
  {
   "cell_type": "markdown",
   "metadata": {},
   "source": [
    "**Columns that are not in input_cols except for the target 'beer_style' are to be dropped.**"
   ]
  },
  {
   "cell_type": "code",
   "execution_count": 19,
   "metadata": {},
   "outputs": [
    {
     "data": {
      "text/plain": [
       "['brewery_id',\n",
       " 'review_time',\n",
       " 'review_overall',\n",
       " 'review_profilename',\n",
       " 'beer_name',\n",
       " 'beer_beerid']"
      ]
     },
     "execution_count": 19,
     "metadata": {},
     "output_type": "execute_result"
    }
   ],
   "source": [
    "cols_to_drop = [i for i in df.columns if i not in input_cols and i != target]\n",
    "cols_to_drop"
   ]
  },
  {
   "cell_type": "markdown",
   "metadata": {},
   "source": [
    "## 2. Prep Data"
   ]
  },
  {
   "cell_type": "code",
   "execution_count": 58,
   "metadata": {},
   "outputs": [],
   "source": [
    "# Make a copy\n",
    "df_cleaned = df.copy()"
   ]
  },
  {
   "cell_type": "markdown",
   "metadata": {},
   "source": [
    "### 2.1 Drop null rows"
   ]
  },
  {
   "cell_type": "code",
   "execution_count": 59,
   "metadata": {},
   "outputs": [],
   "source": [
    "df_cleaned = df_cleaned.dropna()"
   ]
  },
  {
   "cell_type": "markdown",
   "metadata": {},
   "source": [
    "Check for shape and classification distribution"
   ]
  },
  {
   "cell_type": "code",
   "execution_count": 60,
   "metadata": {},
   "outputs": [
    {
     "data": {
      "text/plain": [
       "(1518478, 13)"
      ]
     },
     "execution_count": 60,
     "metadata": {},
     "output_type": "execute_result"
    }
   ],
   "source": [
    "df_cleaned.shape"
   ]
  },
  {
   "cell_type": "code",
   "execution_count": 61,
   "metadata": {},
   "outputs": [
    {
     "data": {
      "text/plain": [
       "<matplotlib.axes._subplots.AxesSubplot at 0x7fc5533b3050>"
      ]
     },
     "execution_count": 61,
     "metadata": {},
     "output_type": "execute_result"
    },
    {
     "data": {
      "image/png": "[encoded data removed]",
      "text/plain": [
       "<Figure size 2160x1080 with 1 Axes>"
      ]
     },
     "metadata": {
      "needs_background": "light"
     },
     "output_type": "display_data"
    }
   ],
   "source": [
    "plt.figure(figsize=(30,15))\n",
    "sns.countplot(x = 'beer_style', data=df_cleaned)"
   ]
  },
  {
   "cell_type": "markdown",
   "metadata": {},
   "source": [
    "Looks like the distribution is the same as the one before na rows are dropped."
   ]
  },
  {
   "cell_type": "markdown",
   "metadata": {},
   "source": [
    "### 2.2 Encode categorical columns"
   ]
  },
  {
   "cell_type": "code",
   "execution_count": 62,
   "metadata": {},
   "outputs": [],
   "source": [
    "from src.data.data_ast2 import create_cats_dict, generate_cat_mapping_dict\n",
    "cats_dict = create_cats_dict(df_cleaned,cat_cols)\n",
    "# cats_dict is too long, not displaying here"
   ]
  },
  {
   "cell_type": "markdown",
   "metadata": {},
   "source": [
    "Get category: number dictionary for later use"
   ]
  },
  {
   "cell_type": "code",
   "execution_count": 63,
   "metadata": {},
   "outputs": [],
   "source": [
    "# get mapping of numerical and categotical value in dictionary format\n",
    "brewery_name_dict = generate_cat_mapping_dict(df_cleaned,'brewery_name')\n",
    "review_profilename_dict = generate_cat_mapping_dict(df_cleaned,'review_profilename')\n",
    "beer_style_dict = generate_cat_mapping_dict(df_cleaned,'beer_style')\n",
    "beer_name_dict = generate_cat_mapping_dict(df_cleaned,'beer_name')"
   ]
  },
  {
   "cell_type": "code",
   "execution_count": 64,
   "metadata": {},
   "outputs": [],
   "source": [
    "from sklearn.preprocessing import StandardScaler, MinMaxScaler, RobustScaler, LabelEncoder\n",
    "# not using onehotencoding as there are too many categories, memory consumption is high\n",
    "# try different scaler:Standard, Minmax and robust"
   ]
  },
  {
   "cell_type": "code",
   "execution_count": 65,
   "metadata": {},
   "outputs": [
    {
     "data": {
      "text/plain": [
       "dict_keys(['brewery_name', 'review_profilename', 'beer_style', 'beer_name'])"
      ]
     },
     "execution_count": 65,
     "metadata": {},
     "output_type": "execute_result"
    }
   ],
   "source": [
    "cats_dict.keys()"
   ]
  },
  {
   "cell_type": "code",
   "execution_count": 66,
   "metadata": {},
   "outputs": [
    {
     "name": "stderr",
     "output_type": "stream",
     "text": [
      "/opt/conda/lib/python3.7/site-packages/sklearn/utils/validation.py:72: DataConversionWarning: A column-vector y was passed when a 1d array was expected. Please change the shape of y to (n_samples, ), for example using ravel().\n",
      "  return f(**kwargs)\n"
     ]
    }
   ],
   "source": [
    "# Use Label encoder instead of ordinal encoder because these variables are not ordinal\n",
    "for col, cats in cats_dict.items():\n",
    "    col_encoder = LabelEncoder()\n",
    "    df_cleaned[col] = col_encoder.fit_transform(df_cleaned[[col]])"
   ]
  },
  {
   "cell_type": "code",
   "execution_count": 67,
   "metadata": {},
   "outputs": [
    {
     "data": {
      "text/html": [
       "<div>\n",
       "<style scoped>\n",
       "    .dataframe tbody tr th:only-of-type {\n",
       "        vertical-align: middle;\n",
       "    }\n",
       "\n",
       "    .dataframe tbody tr th {\n",
       "        vertical-align: top;\n",
       "    }\n",
       "\n",
       "    .dataframe thead th {\n",
       "        text-align: right;\n",
       "    }\n",
       "</style>\n",
       "<table border=\"1\" class=\"dataframe\">\n",
       "  <thead>\n",
       "    <tr style=\"text-align: right;\">\n",
       "      <th></th>\n",
       "      <th>brewery_id</th>\n",
       "      <th>brewery_name</th>\n",
       "      <th>review_time</th>\n",
       "      <th>review_overall</th>\n",
       "      <th>review_aroma</th>\n",
       "      <th>review_appearance</th>\n",
       "      <th>review_profilename</th>\n",
       "      <th>beer_style</th>\n",
       "      <th>review_palate</th>\n",
       "      <th>review_taste</th>\n",
       "      <th>beer_name</th>\n",
       "      <th>beer_abv</th>\n",
       "      <th>beer_beerid</th>\n",
       "    </tr>\n",
       "  </thead>\n",
       "  <tbody>\n",
       "    <tr>\n",
       "      <th>0</th>\n",
       "      <td>10325</td>\n",
       "      <td>4886</td>\n",
       "      <td>1234817823</td>\n",
       "      <td>1.5</td>\n",
       "      <td>2.0</td>\n",
       "      <td>2.5</td>\n",
       "      <td>30121</td>\n",
       "      <td>65</td>\n",
       "      <td>1.5</td>\n",
       "      <td>1.5</td>\n",
       "      <td>34371</td>\n",
       "      <td>5.0</td>\n",
       "      <td>47986</td>\n",
       "    </tr>\n",
       "    <tr>\n",
       "      <th>1</th>\n",
       "      <td>10325</td>\n",
       "      <td>4886</td>\n",
       "      <td>1235915097</td>\n",
       "      <td>3.0</td>\n",
       "      <td>2.5</td>\n",
       "      <td>3.0</td>\n",
       "      <td>30121</td>\n",
       "      <td>51</td>\n",
       "      <td>3.0</td>\n",
       "      <td>3.0</td>\n",
       "      <td>32297</td>\n",
       "      <td>6.2</td>\n",
       "      <td>48213</td>\n",
       "    </tr>\n",
       "    <tr>\n",
       "      <th>2</th>\n",
       "      <td>10325</td>\n",
       "      <td>4886</td>\n",
       "      <td>1235916604</td>\n",
       "      <td>3.0</td>\n",
       "      <td>2.5</td>\n",
       "      <td>3.0</td>\n",
       "      <td>30121</td>\n",
       "      <td>59</td>\n",
       "      <td>3.0</td>\n",
       "      <td>3.0</td>\n",
       "      <td>5313</td>\n",
       "      <td>6.5</td>\n",
       "      <td>48215</td>\n",
       "    </tr>\n",
       "    <tr>\n",
       "      <th>3</th>\n",
       "      <td>10325</td>\n",
       "      <td>4886</td>\n",
       "      <td>1234725145</td>\n",
       "      <td>3.0</td>\n",
       "      <td>3.0</td>\n",
       "      <td>3.5</td>\n",
       "      <td>30121</td>\n",
       "      <td>61</td>\n",
       "      <td>2.5</td>\n",
       "      <td>3.0</td>\n",
       "      <td>34370</td>\n",
       "      <td>5.0</td>\n",
       "      <td>47969</td>\n",
       "    </tr>\n",
       "    <tr>\n",
       "      <th>4</th>\n",
       "      <td>1075</td>\n",
       "      <td>1360</td>\n",
       "      <td>1293735206</td>\n",
       "      <td>4.0</td>\n",
       "      <td>4.5</td>\n",
       "      <td>4.0</td>\n",
       "      <td>22693</td>\n",
       "      <td>9</td>\n",
       "      <td>4.0</td>\n",
       "      <td>4.5</td>\n",
       "      <td>8745</td>\n",
       "      <td>7.7</td>\n",
       "      <td>64883</td>\n",
       "    </tr>\n",
       "    <tr>\n",
       "      <th>5</th>\n",
       "      <td>1075</td>\n",
       "      <td>1360</td>\n",
       "      <td>1325524659</td>\n",
       "      <td>3.0</td>\n",
       "      <td>3.5</td>\n",
       "      <td>3.5</td>\n",
       "      <td>26755</td>\n",
       "      <td>66</td>\n",
       "      <td>3.0</td>\n",
       "      <td>3.5</td>\n",
       "      <td>8085</td>\n",
       "      <td>4.7</td>\n",
       "      <td>52159</td>\n",
       "    </tr>\n",
       "    <tr>\n",
       "      <th>6</th>\n",
       "      <td>1075</td>\n",
       "      <td>1360</td>\n",
       "      <td>1318991115</td>\n",
       "      <td>3.5</td>\n",
       "      <td>3.5</td>\n",
       "      <td>3.5</td>\n",
       "      <td>10055</td>\n",
       "      <td>66</td>\n",
       "      <td>4.0</td>\n",
       "      <td>4.0</td>\n",
       "      <td>8085</td>\n",
       "      <td>4.7</td>\n",
       "      <td>52159</td>\n",
       "    </tr>\n",
       "    <tr>\n",
       "      <th>7</th>\n",
       "      <td>1075</td>\n",
       "      <td>1360</td>\n",
       "      <td>1306276018</td>\n",
       "      <td>3.0</td>\n",
       "      <td>2.5</td>\n",
       "      <td>3.5</td>\n",
       "      <td>13759</td>\n",
       "      <td>66</td>\n",
       "      <td>2.0</td>\n",
       "      <td>3.5</td>\n",
       "      <td>8085</td>\n",
       "      <td>4.7</td>\n",
       "      <td>52159</td>\n",
       "    </tr>\n",
       "    <tr>\n",
       "      <th>8</th>\n",
       "      <td>1075</td>\n",
       "      <td>1360</td>\n",
       "      <td>1290454503</td>\n",
       "      <td>4.0</td>\n",
       "      <td>3.0</td>\n",
       "      <td>3.5</td>\n",
       "      <td>7575</td>\n",
       "      <td>66</td>\n",
       "      <td>3.5</td>\n",
       "      <td>4.0</td>\n",
       "      <td>8085</td>\n",
       "      <td>4.7</td>\n",
       "      <td>52159</td>\n",
       "    </tr>\n",
       "    <tr>\n",
       "      <th>9</th>\n",
       "      <td>1075</td>\n",
       "      <td>1360</td>\n",
       "      <td>1285632924</td>\n",
       "      <td>4.5</td>\n",
       "      <td>3.5</td>\n",
       "      <td>5.0</td>\n",
       "      <td>14188</td>\n",
       "      <td>66</td>\n",
       "      <td>4.0</td>\n",
       "      <td>4.0</td>\n",
       "      <td>8085</td>\n",
       "      <td>4.7</td>\n",
       "      <td>52159</td>\n",
       "    </tr>\n",
       "  </tbody>\n",
       "</table>\n",
       "</div>"
      ],
      "text/plain": [
       "   brewery_id  brewery_name  review_time  review_overall  review_aroma  \\\n",
       "0       10325          4886   1234817823             1.5           2.0   \n",
       "1       10325          4886   1235915097             3.0           2.5   \n",
       "2       10325          4886   1235916604             3.0           2.5   \n",
       "3       10325          4886   1234725145             3.0           3.0   \n",
       "4        1075          1360   1293735206             4.0           4.5   \n",
       "5        1075          1360   1325524659             3.0           3.5   \n",
       "6        1075          1360   1318991115             3.5           3.5   \n",
       "7        1075          1360   1306276018             3.0           2.5   \n",
       "8        1075          1360   1290454503             4.0           3.0   \n",
       "9        1075          1360   1285632924             4.5           3.5   \n",
       "\n",
       "   review_appearance  review_profilename  beer_style  review_palate  \\\n",
       "0                2.5               30121          65            1.5   \n",
       "1                3.0               30121          51            3.0   \n",
       "2                3.0               30121          59            3.0   \n",
       "3                3.5               30121          61            2.5   \n",
       "4                4.0               22693           9            4.0   \n",
       "5                3.5               26755          66            3.0   \n",
       "6                3.5               10055          66            4.0   \n",
       "7                3.5               13759          66            2.0   \n",
       "8                3.5                7575          66            3.5   \n",
       "9                5.0               14188          66            4.0   \n",
       "\n",
       "   review_taste  beer_name  beer_abv  beer_beerid  \n",
       "0           1.5      34371       5.0        47986  \n",
       "1           3.0      32297       6.2        48213  \n",
       "2           3.0       5313       6.5        48215  \n",
       "3           3.0      34370       5.0        47969  \n",
       "4           4.5       8745       7.7        64883  \n",
       "5           3.5       8085       4.7        52159  \n",
       "6           4.0       8085       4.7        52159  \n",
       "7           3.5       8085       4.7        52159  \n",
       "8           4.0       8085       4.7        52159  \n",
       "9           4.0       8085       4.7        52159  "
      ]
     },
     "execution_count": 67,
     "metadata": {},
     "output_type": "execute_result"
    }
   ],
   "source": [
    "df_cleaned.head(10)"
   ]
  },
  {
   "cell_type": "markdown",
   "metadata": {},
   "source": [
    "### 2.3 Drop columns (defined in EDA)"
   ]
  },
  {
   "cell_type": "code",
   "execution_count": 68,
   "metadata": {},
   "outputs": [],
   "source": [
    "#drop columns\n",
    "df_cleaned = df_cleaned.drop(cols_to_drop, axis=1)"
   ]
  },
  {
   "cell_type": "code",
   "execution_count": 69,
   "metadata": {},
   "outputs": [
    {
     "data": {
      "text/plain": [
       "(1518478, 7)"
      ]
     },
     "execution_count": 69,
     "metadata": {},
     "output_type": "execute_result"
    }
   ],
   "source": [
    "df_cleaned.shape"
   ]
  },
  {
   "cell_type": "code",
   "execution_count": 70,
   "metadata": {},
   "outputs": [
    {
     "data": {
      "text/html": [
       "<div>\n",
       "<style scoped>\n",
       "    .dataframe tbody tr th:only-of-type {\n",
       "        vertical-align: middle;\n",
       "    }\n",
       "\n",
       "    .dataframe tbody tr th {\n",
       "        vertical-align: top;\n",
       "    }\n",
       "\n",
       "    .dataframe thead th {\n",
       "        text-align: right;\n",
       "    }\n",
       "</style>\n",
       "<table border=\"1\" class=\"dataframe\">\n",
       "  <thead>\n",
       "    <tr style=\"text-align: right;\">\n",
       "      <th></th>\n",
       "      <th>brewery_name</th>\n",
       "      <th>review_aroma</th>\n",
       "      <th>review_appearance</th>\n",
       "      <th>beer_style</th>\n",
       "      <th>review_palate</th>\n",
       "      <th>review_taste</th>\n",
       "      <th>beer_abv</th>\n",
       "    </tr>\n",
       "  </thead>\n",
       "  <tbody>\n",
       "    <tr>\n",
       "      <th>0</th>\n",
       "      <td>4886</td>\n",
       "      <td>2.0</td>\n",
       "      <td>2.5</td>\n",
       "      <td>65</td>\n",
       "      <td>1.5</td>\n",
       "      <td>1.5</td>\n",
       "      <td>5.0</td>\n",
       "    </tr>\n",
       "    <tr>\n",
       "      <th>1</th>\n",
       "      <td>4886</td>\n",
       "      <td>2.5</td>\n",
       "      <td>3.0</td>\n",
       "      <td>51</td>\n",
       "      <td>3.0</td>\n",
       "      <td>3.0</td>\n",
       "      <td>6.2</td>\n",
       "    </tr>\n",
       "    <tr>\n",
       "      <th>2</th>\n",
       "      <td>4886</td>\n",
       "      <td>2.5</td>\n",
       "      <td>3.0</td>\n",
       "      <td>59</td>\n",
       "      <td>3.0</td>\n",
       "      <td>3.0</td>\n",
       "      <td>6.5</td>\n",
       "    </tr>\n",
       "    <tr>\n",
       "      <th>3</th>\n",
       "      <td>4886</td>\n",
       "      <td>3.0</td>\n",
       "      <td>3.5</td>\n",
       "      <td>61</td>\n",
       "      <td>2.5</td>\n",
       "      <td>3.0</td>\n",
       "      <td>5.0</td>\n",
       "    </tr>\n",
       "    <tr>\n",
       "      <th>4</th>\n",
       "      <td>1360</td>\n",
       "      <td>4.5</td>\n",
       "      <td>4.0</td>\n",
       "      <td>9</td>\n",
       "      <td>4.0</td>\n",
       "      <td>4.5</td>\n",
       "      <td>7.7</td>\n",
       "    </tr>\n",
       "    <tr>\n",
       "      <th>...</th>\n",
       "      <td>...</td>\n",
       "      <td>...</td>\n",
       "      <td>...</td>\n",
       "      <td>...</td>\n",
       "      <td>...</td>\n",
       "      <td>...</td>\n",
       "      <td>...</td>\n",
       "    </tr>\n",
       "    <tr>\n",
       "      <th>1586609</th>\n",
       "      <td>4617</td>\n",
       "      <td>4.0</td>\n",
       "      <td>3.5</td>\n",
       "      <td>85</td>\n",
       "      <td>4.0</td>\n",
       "      <td>4.0</td>\n",
       "      <td>5.2</td>\n",
       "    </tr>\n",
       "    <tr>\n",
       "      <th>1586610</th>\n",
       "      <td>4617</td>\n",
       "      <td>5.0</td>\n",
       "      <td>2.5</td>\n",
       "      <td>85</td>\n",
       "      <td>2.0</td>\n",
       "      <td>4.0</td>\n",
       "      <td>5.2</td>\n",
       "    </tr>\n",
       "    <tr>\n",
       "      <th>1586611</th>\n",
       "      <td>4617</td>\n",
       "      <td>3.5</td>\n",
       "      <td>3.0</td>\n",
       "      <td>85</td>\n",
       "      <td>3.5</td>\n",
       "      <td>4.0</td>\n",
       "      <td>5.2</td>\n",
       "    </tr>\n",
       "    <tr>\n",
       "      <th>1586612</th>\n",
       "      <td>4617</td>\n",
       "      <td>4.5</td>\n",
       "      <td>4.5</td>\n",
       "      <td>85</td>\n",
       "      <td>4.5</td>\n",
       "      <td>4.5</td>\n",
       "      <td>5.2</td>\n",
       "    </tr>\n",
       "    <tr>\n",
       "      <th>1586613</th>\n",
       "      <td>4617</td>\n",
       "      <td>4.5</td>\n",
       "      <td>4.5</td>\n",
       "      <td>85</td>\n",
       "      <td>4.5</td>\n",
       "      <td>4.5</td>\n",
       "      <td>5.2</td>\n",
       "    </tr>\n",
       "  </tbody>\n",
       "</table>\n",
       "<p>1518478 rows × 7 columns</p>\n",
       "</div>"
      ],
      "text/plain": [
       "         brewery_name  review_aroma  review_appearance  beer_style  \\\n",
       "0                4886           2.0                2.5          65   \n",
       "1                4886           2.5                3.0          51   \n",
       "2                4886           2.5                3.0          59   \n",
       "3                4886           3.0                3.5          61   \n",
       "4                1360           4.5                4.0           9   \n",
       "...               ...           ...                ...         ...   \n",
       "1586609          4617           4.0                3.5          85   \n",
       "1586610          4617           5.0                2.5          85   \n",
       "1586611          4617           3.5                3.0          85   \n",
       "1586612          4617           4.5                4.5          85   \n",
       "1586613          4617           4.5                4.5          85   \n",
       "\n",
       "         review_palate  review_taste  beer_abv  \n",
       "0                  1.5           1.5       5.0  \n",
       "1                  3.0           3.0       6.2  \n",
       "2                  3.0           3.0       6.5  \n",
       "3                  2.5           3.0       5.0  \n",
       "4                  4.0           4.5       7.7  \n",
       "...                ...           ...       ...  \n",
       "1586609            4.0           4.0       5.2  \n",
       "1586610            2.0           4.0       5.2  \n",
       "1586611            3.5           4.0       5.2  \n",
       "1586612            4.5           4.5       5.2  \n",
       "1586613            4.5           4.5       5.2  \n",
       "\n",
       "[1518478 rows x 7 columns]"
      ]
     },
     "execution_count": 70,
     "metadata": {},
     "output_type": "execute_result"
    }
   ],
   "source": [
    "df_cleaned"
   ]
  },
  {
   "cell_type": "markdown",
   "metadata": {},
   "source": [
    "### 2.4 Separate input and output data"
   ]
  },
  {
   "cell_type": "code",
   "execution_count": 71,
   "metadata": {},
   "outputs": [],
   "source": [
    "# Make a copy\n",
    "df_data = df_cleaned.copy()"
   ]
  },
  {
   "cell_type": "code",
   "execution_count": 72,
   "metadata": {},
   "outputs": [],
   "source": [
    "y = pd.DataFrame(df_data.pop('beer_style'))\n",
    "X = df_data"
   ]
  },
  {
   "cell_type": "markdown",
   "metadata": {},
   "source": [
    "**Split Dataset**"
   ]
  },
  {
   "cell_type": "code",
   "execution_count": 73,
   "metadata": {},
   "outputs": [],
   "source": [
    "from sklearn.model_selection import train_test_split\n",
    "# Split into train+val and test\n",
    "X_trainval, X_test, y_trainval, y_test = train_test_split(X, y, test_size=0.2, stratify=y, random_state=0)\n",
    "\n",
    "# Split train into train-val\n",
    "X_train, X_val, y_train, y_val = train_test_split(X_trainval, y_trainval, test_size=0.1, stratify=y_trainval, random_state=0)"
   ]
  },
  {
   "cell_type": "code",
   "execution_count": 74,
   "metadata": {},
   "outputs": [
    {
     "data": {
      "text/html": [
       "<div>\n",
       "<style scoped>\n",
       "    .dataframe tbody tr th:only-of-type {\n",
       "        vertical-align: middle;\n",
       "    }\n",
       "\n",
       "    .dataframe tbody tr th {\n",
       "        vertical-align: top;\n",
       "    }\n",
       "\n",
       "    .dataframe thead th {\n",
       "        text-align: right;\n",
       "    }\n",
       "</style>\n",
       "<table border=\"1\" class=\"dataframe\">\n",
       "  <thead>\n",
       "    <tr style=\"text-align: right;\">\n",
       "      <th></th>\n",
       "      <th>beer_style</th>\n",
       "    </tr>\n",
       "  </thead>\n",
       "  <tbody>\n",
       "    <tr>\n",
       "      <th>1538440</th>\n",
       "      <td>17</td>\n",
       "    </tr>\n",
       "    <tr>\n",
       "      <th>586313</th>\n",
       "      <td>12</td>\n",
       "    </tr>\n",
       "    <tr>\n",
       "      <th>1011371</th>\n",
       "      <td>37</td>\n",
       "    </tr>\n",
       "    <tr>\n",
       "      <th>953832</th>\n",
       "      <td>73</td>\n",
       "    </tr>\n",
       "    <tr>\n",
       "      <th>1264607</th>\n",
       "      <td>89</td>\n",
       "    </tr>\n",
       "    <tr>\n",
       "      <th>...</th>\n",
       "      <td>...</td>\n",
       "    </tr>\n",
       "    <tr>\n",
       "      <th>461337</th>\n",
       "      <td>60</td>\n",
       "    </tr>\n",
       "    <tr>\n",
       "      <th>1039474</th>\n",
       "      <td>19</td>\n",
       "    </tr>\n",
       "    <tr>\n",
       "      <th>225435</th>\n",
       "      <td>21</td>\n",
       "    </tr>\n",
       "    <tr>\n",
       "      <th>1031071</th>\n",
       "      <td>37</td>\n",
       "    </tr>\n",
       "    <tr>\n",
       "      <th>379568</th>\n",
       "      <td>14</td>\n",
       "    </tr>\n",
       "  </tbody>\n",
       "</table>\n",
       "<p>303696 rows × 1 columns</p>\n",
       "</div>"
      ],
      "text/plain": [
       "         beer_style\n",
       "1538440          17\n",
       "586313           12\n",
       "1011371          37\n",
       "953832           73\n",
       "1264607          89\n",
       "...             ...\n",
       "461337           60\n",
       "1039474          19\n",
       "225435           21\n",
       "1031071          37\n",
       "379568           14\n",
       "\n",
       "[303696 rows x 1 columns]"
      ]
     },
     "execution_count": 74,
     "metadata": {},
     "output_type": "execute_result"
    }
   ],
   "source": [
    "y_test"
   ]
  },
  {
   "cell_type": "code",
   "execution_count": 75,
   "metadata": {},
   "outputs": [
    {
     "name": "stdout",
     "output_type": "stream",
     "text": [
      "<class 'pandas.core.frame.DataFrame'>\n",
      "Int64Index: 1518478 entries, 0 to 1586613\n",
      "Data columns (total 6 columns):\n",
      "brewery_name         1518478 non-null int64\n",
      "review_aroma         1518478 non-null float64\n",
      "review_appearance    1518478 non-null float64\n",
      "review_palate        1518478 non-null float64\n",
      "review_taste         1518478 non-null float64\n",
      "beer_abv             1518478 non-null float64\n",
      "dtypes: float64(5), int64(1)\n",
      "memory usage: 81.1 MB\n",
      "<class 'pandas.core.frame.DataFrame'>\n",
      "Int64Index: 1518478 entries, 0 to 1586613\n",
      "Data columns (total 1 columns):\n",
      "beer_style    1518478 non-null int64\n",
      "dtypes: int64(1)\n",
      "memory usage: 23.2 MB\n"
     ]
    },
    {
     "data": {
      "text/plain": [
       "(None, None)"
      ]
     },
     "execution_count": 75,
     "metadata": {},
     "output_type": "execute_result"
    }
   ],
   "source": [
    "# Check datatype\n",
    "X.info(), y.info()"
   ]
  },
  {
   "cell_type": "markdown",
   "metadata": {},
   "source": [
    "### 2.5 Standardise Dataset"
   ]
  },
  {
   "cell_type": "markdown",
   "metadata": {},
   "source": [
    "Can change scaler in later experiments"
   ]
  },
  {
   "cell_type": "code",
   "execution_count": 76,
   "metadata": {},
   "outputs": [
    {
     "ename": "AttributeError",
     "evalue": "'numpy.ndarray' object has no attribute 'to_numpy'",
     "output_type": "error",
     "traceback": [
      "\u001b[0;31m\u001b[0m",
      "\u001b[0;31mAttributeError\u001b[0mTraceback (most recent call last)",
      "\u001b[0;32m<ipython-input-76-c527186e2012>\u001b[0m in \u001b[0;36m<module>\u001b[0;34m\u001b[0m\n\u001b[1;32m      3\u001b[0m \u001b[0mX_val\u001b[0m \u001b[0;34m=\u001b[0m \u001b[0mscaler\u001b[0m\u001b[0;34m.\u001b[0m\u001b[0mtransform\u001b[0m\u001b[0;34m(\u001b[0m\u001b[0mX_val\u001b[0m\u001b[0;34m)\u001b[0m\u001b[0;34m\u001b[0m\u001b[0;34m\u001b[0m\u001b[0m\n\u001b[1;32m      4\u001b[0m \u001b[0mX_test\u001b[0m \u001b[0;34m=\u001b[0m \u001b[0mscaler\u001b[0m\u001b[0;34m.\u001b[0m\u001b[0mtransform\u001b[0m\u001b[0;34m(\u001b[0m\u001b[0mX_test\u001b[0m\u001b[0;34m)\u001b[0m\u001b[0;34m\u001b[0m\u001b[0;34m\u001b[0m\u001b[0m\n\u001b[0;32m----> 5\u001b[0;31m \u001b[0mX_train\u001b[0m\u001b[0;34m,\u001b[0m \u001b[0my_train\u001b[0m \u001b[0;34m=\u001b[0m \u001b[0mX_train\u001b[0m\u001b[0;34m.\u001b[0m\u001b[0mto_numpy\u001b[0m\u001b[0;34m(\u001b[0m\u001b[0;34m)\u001b[0m\u001b[0;34m,\u001b[0m \u001b[0my_train\u001b[0m\u001b[0;34m.\u001b[0m\u001b[0mto_numpy\u001b[0m\u001b[0;34m(\u001b[0m\u001b[0;34m)\u001b[0m\u001b[0;34m\u001b[0m\u001b[0;34m\u001b[0m\u001b[0m\n\u001b[0m\u001b[1;32m      6\u001b[0m \u001b[0mX_val\u001b[0m\u001b[0;34m,\u001b[0m \u001b[0my_val\u001b[0m \u001b[0;34m=\u001b[0m \u001b[0mX_val\u001b[0m\u001b[0;34m.\u001b[0m\u001b[0mto_numpy\u001b[0m\u001b[0;34m(\u001b[0m\u001b[0;34m)\u001b[0m\u001b[0;34m,\u001b[0m \u001b[0my_val\u001b[0m\u001b[0;34m.\u001b[0m\u001b[0mto_numpy\u001b[0m\u001b[0;34m(\u001b[0m\u001b[0;34m)\u001b[0m\u001b[0;34m\u001b[0m\u001b[0;34m\u001b[0m\u001b[0m\n\u001b[1;32m      7\u001b[0m \u001b[0mX_test\u001b[0m\u001b[0;34m,\u001b[0m \u001b[0my_test\u001b[0m \u001b[0;34m=\u001b[0m \u001b[0mX_test\u001b[0m\u001b[0;34m.\u001b[0m\u001b[0mto_numpy\u001b[0m\u001b[0;34m(\u001b[0m\u001b[0;34m)\u001b[0m\u001b[0;34m,\u001b[0m \u001b[0my_test\u001b[0m\u001b[0;34m.\u001b[0m\u001b[0mto_numpy\u001b[0m\u001b[0;34m(\u001b[0m\u001b[0;34m)\u001b[0m\u001b[0;34m\u001b[0m\u001b[0;34m\u001b[0m\u001b[0m\n",
      "\u001b[0;31mAttributeError\u001b[0m: 'numpy.ndarray' object has no attribute 'to_numpy'"
     ]
    }
   ],
   "source": [
    "scaler = MinMaxScaler()\n",
    "X_train = scaler.fit_transform(X_train)\n",
    "X_val = scaler.transform(X_val)\n",
    "X_test = scaler.transform(X_test)\n",
    "X_train, y_train = X_train.to_numpy(), y_train.to_numpy() \n",
    "X_val, y_val = X_val.to_numpy(), y_val.to_numpy()   \n",
    "X_test, y_test = X_test.to_numpy(), y_test.to_numpy()"
   ]
  },
  {
   "cell_type": "code",
   "execution_count": 38,
   "metadata": {},
   "outputs": [
    {
     "data": {
      "text/plain": [
       "array([[17],\n",
       "       [12],\n",
       "       [37],\n",
       "       ...,\n",
       "       [21],\n",
       "       [37],\n",
       "       [14]])"
      ]
     },
     "execution_count": 38,
     "metadata": {},
     "output_type": "execute_result"
    }
   ],
   "source": [
    "y_test"
   ]
  },
  {
   "cell_type": "markdown",
   "metadata": {},
   "source": [
    "### 2.6 Visualize Class Distribution in Train, Val, and Test"
   ]
  },
  {
   "cell_type": "code",
   "execution_count": 38,
   "metadata": {},
   "outputs": [],
   "source": [
    "from src.data.data_ast2 import get_class_distribution"
   ]
  },
  {
   "cell_type": "code",
   "execution_count": 41,
   "metadata": {},
   "outputs": [],
   "source": [
    "### 删掉\n",
    "def get_class_distribution(obj, beer_style_dict):\n",
    "    dict_length = len(beer_style_dict)\n",
    "    helper_list = list(range(104))\n",
    "    count_dict = dict()\n",
    "    for i in helper_list:\n",
    "        count_dict[f\"type_{str(i)}\"] = 0\n",
    "    \n",
    "    for i in obj:\n",
    "        if i in helper_list:\n",
    "            count_dict[f\"type_{i}\"] +=1              \n",
    "            \n",
    "    return count_dict"
   ]
  },
  {
   "cell_type": "code",
   "execution_count": 43,
   "metadata": {},
   "outputs": [],
   "source": [
    "helper_list = list(range(104))\n",
    "count_dict = dict()\n",
    "for i in helper_list:\n",
    "    count_dict[f\"type_{str(i)}\"] = 0"
   ]
  },
  {
   "cell_type": "code",
   "execution_count": 44,
   "metadata": {},
   "outputs": [
    {
     "data": {
      "text/plain": [
       "numpy.ndarray"
      ]
     },
     "execution_count": 44,
     "metadata": {},
     "output_type": "execute_result"
    }
   ],
   "source": [
    "type(y_test)"
   ]
  },
  {
   "cell_type": "code",
   "execution_count": 46,
   "metadata": {},
   "outputs": [
    {
     "data": {
      "text/plain": [
       "17"
      ]
     },
     "execution_count": 46,
     "metadata": {},
     "output_type": "execute_result"
    }
   ],
   "source": [
    "y_test[0][0]"
   ]
  },
  {
   "cell_type": "code",
   "execution_count": 42,
   "metadata": {},
   "outputs": [
    {
     "ename": "KeyError",
     "evalue": "'type_[17]'",
     "output_type": "error",
     "traceback": [
      "\u001b[0;31m\u001b[0m",
      "\u001b[0;31mKeyError\u001b[0mTraceback (most recent call last)",
      "\u001b[0;32m<ipython-input-42-6cfea1bc7e18>\u001b[0m in \u001b[0;36m<module>\u001b[0;34m\u001b[0m\n\u001b[1;32m      1\u001b[0m \u001b[0;31m### 删掉\u001b[0m\u001b[0;34m\u001b[0m\u001b[0;34m\u001b[0m\u001b[0;34m\u001b[0m\u001b[0m\n\u001b[0;32m----> 2\u001b[0;31m \u001b[0mget_class_distribution\u001b[0m\u001b[0;34m(\u001b[0m\u001b[0my_test\u001b[0m\u001b[0;34m,\u001b[0m \u001b[0mbeer_style_dict\u001b[0m\u001b[0;34m)\u001b[0m\u001b[0;34m\u001b[0m\u001b[0;34m\u001b[0m\u001b[0m\n\u001b[0m",
      "\u001b[0;32m<ipython-input-41-1dec2ac8eed9>\u001b[0m in \u001b[0;36mget_class_distribution\u001b[0;34m(obj, beer_style_dict)\u001b[0m\n\u001b[1;32m      8\u001b[0m     \u001b[0;32mfor\u001b[0m \u001b[0mi\u001b[0m \u001b[0;32min\u001b[0m \u001b[0mobj\u001b[0m\u001b[0;34m:\u001b[0m\u001b[0;34m\u001b[0m\u001b[0;34m\u001b[0m\u001b[0m\n\u001b[1;32m      9\u001b[0m         \u001b[0;32mif\u001b[0m \u001b[0mi\u001b[0m \u001b[0;32min\u001b[0m \u001b[0mhelper_list\u001b[0m\u001b[0;34m:\u001b[0m\u001b[0;34m\u001b[0m\u001b[0;34m\u001b[0m\u001b[0m\n\u001b[0;32m---> 10\u001b[0;31m             \u001b[0mcount_dict\u001b[0m\u001b[0;34m[\u001b[0m\u001b[0;34mf\"type_{i}\"\u001b[0m\u001b[0;34m]\u001b[0m \u001b[0;34m+=\u001b[0m\u001b[0;36m1\u001b[0m\u001b[0;34m\u001b[0m\u001b[0;34m\u001b[0m\u001b[0m\n\u001b[0m\u001b[1;32m     11\u001b[0m \u001b[0;34m\u001b[0m\u001b[0m\n\u001b[1;32m     12\u001b[0m     \u001b[0;32mreturn\u001b[0m \u001b[0mcount_dict\u001b[0m\u001b[0;34m\u001b[0m\u001b[0;34m\u001b[0m\u001b[0m\n",
      "\u001b[0;31mKeyError\u001b[0m: 'type_[17]'"
     ]
    }
   ],
   "source": [
    "### 删掉\n",
    "get_class_distribution(y_test, beer_style_dict)"
   ]
  },
  {
   "cell_type": "code",
   "execution_count": 138,
   "metadata": {},
   "outputs": [
    {
     "data": {
      "text/plain": [
       "Text(0.5, 1.0, 'Class Distribution in Test Set')"
      ]
     },
     "execution_count": 138,
     "metadata": {},
     "output_type": "execute_result"
    },
    {
     "data": {
      "image/png": "[encoded data removed]",
      "text/plain": [
       "<Figure size 1800x2880 with 3 Axes>"
      ]
     },
     "metadata": {
      "needs_background": "light"
     },
     "output_type": "display_data"
    }
   ],
   "source": [
    "fig, axes = plt.subplots(nrows=1, ncols=3, figsize=(25,40))\n",
    "\n",
    "# Train\n",
    "sns.barplot(data = pd.DataFrame.from_dict([get_class_distribution(y_train, beer_style_dict)]).melt(), x = \"variable\", y=\"value\", hue=\"variable\",  ax=axes[0]).set_title('Class Distribution in Train Set')\n",
    "# Validation\n",
    "sns.barplot(data = pd.DataFrame.from_dict([get_class_distribution(y_val, beer_style_dict)]).melt(), x = \"variable\", y=\"value\", hue=\"variable\",  ax=axes[1]).set_title('Class Distribution in Val Set')\n",
    "# Test\n",
    "sns.barplot(data = pd.DataFrame.from_dict([get_class_distribution(y_test, beer_style_dict)]).melt(), x = \"variable\", y=\"value\", hue=\"variable\",  ax=axes[2]).set_title('Class Distribution in Test Set')"
   ]
  },
  {
   "cell_type": "markdown",
   "metadata": {},
   "source": [
    "We can see the imbalance distribution of data is significant, will do oversampling in the model notebook"
   ]
  },
  {
   "cell_type": "markdown",
   "metadata": {},
   "source": [
    "### 2.7 Save datasets and dictionaries"
   ]
  },
  {
   "cell_type": "code",
   "execution_count": 39,
   "metadata": {},
   "outputs": [],
   "source": [
    "from src.data.sets import save_sets\n",
    "save_sets(X_train=X_train, y_train=y_train, X_val=X_val, y_val=y_val, X_test=X_test, y_test=y_test, path='../data/processed/')"
   ]
  },
  {
   "cell_type": "code",
   "execution_count": 40,
   "metadata": {},
   "outputs": [],
   "source": [
    "from src.data.data_ast2 import save_dicts\n",
    "save_dicts(brewery_name_dict=brewery_name_dict, beer_style_dict=beer_style_dict)"
   ]
  }
 ],
 "metadata": {
  "kernelspec": {
   "display_name": "Python 3",
   "language": "python",
   "name": "python3"
  },
  "language_info": {
   "codemirror_mode": {
    "name": "ipython",
    "version": 3
   },
   "file_extension": ".py",
   "mimetype": "text/x-python",
   "name": "python",
   "nbconvert_exporter": "python",
   "pygments_lexer": "ipython3",
   "version": "3.7.6"
  }
 },
 "nbformat": 4,
 "nbformat_minor": 4
}
