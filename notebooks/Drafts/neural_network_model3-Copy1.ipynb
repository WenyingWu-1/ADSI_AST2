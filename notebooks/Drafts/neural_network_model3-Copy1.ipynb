{
 "cells": [
  {
   "cell_type": "markdown",
   "metadata": {},
   "source": [
    "Prep Dataset"
   ]
  },
  {
   "cell_type": "code",
   "execution_count": 1,
   "metadata": {},
   "outputs": [],
   "source": [
    "%load_ext autoreload\n",
    "%autoreload 2"
   ]
  },
  {
   "cell_type": "code",
   "execution_count": 2,
   "metadata": {},
   "outputs": [],
   "source": [
    "from src.data.sets import load_sets"
   ]
  },
  {
   "cell_type": "code",
   "execution_count": 3,
   "metadata": {},
   "outputs": [],
   "source": [
    "X_train, y_train, X_val, y_val, X_test, y_test = load_sets()"
   ]
  },
  {
   "cell_type": "code",
   "execution_count": 4,
   "metadata": {},
   "outputs": [],
   "source": [
    "from src.models.pytorch import PytorchDataset\n",
    "\n",
    "train_dataset = PytorchDataset(X=X_train, y=y_train)\n",
    "val_dataset = PytorchDataset(X=X_val, y=y_val)\n",
    "test_dataset = PytorchDataset(X=X_test, y=y_test)"
   ]
  },
  {
   "cell_type": "code",
   "execution_count": 5,
   "metadata": {},
   "outputs": [
    {
     "data": {
      "text/plain": [
       "tensor([65., 44., 25.,  ..., 13., 12., 29.])"
      ]
     },
     "execution_count": 5,
     "metadata": {},
     "output_type": "execute_result"
    }
   ],
   "source": [
    "train_dataset.y_tensor"
   ]
  },
  {
   "cell_type": "markdown",
   "metadata": {},
   "source": [
    "Baseline Model"
   ]
  },
  {
   "cell_type": "code",
   "execution_count": 6,
   "metadata": {},
   "outputs": [],
   "source": [
    "from src.models.null import NullModel\n",
    "baseline_model = NullModel(target_type='classification')\n",
    "y_base = baseline_model.fit_predict(y_train)"
   ]
  },
  {
   "cell_type": "code",
   "execution_count": 7,
   "metadata": {},
   "outputs": [
    {
     "name": "stdout",
     "output_type": "stream",
     "text": [
      "Accuracy Training: 0.07444192974099043\n",
      "F1 Training: 0.010315310209270104\n"
     ]
    }
   ],
   "source": [
    "from src.models.performance import print_class_perf\n",
    "print_class_perf(y_base, y_train, set_name='Training', average='weighted')"
   ]
  },
  {
   "cell_type": "markdown",
   "metadata": {},
   "source": [
    "Define Architecture"
   ]
  },
  {
   "cell_type": "markdown",
   "metadata": {},
   "source": [
    "This model tests trial and error for different neural network architectures"
   ]
  },
  {
   "cell_type": "code",
   "execution_count": 8,
   "metadata": {},
   "outputs": [],
   "source": [
    "import torch\n",
    "import torch.nn as nn\n",
    "import torch.nn.functional as F"
   ]
  },
  {
   "cell_type": "code",
   "execution_count": 9,
   "metadata": {},
   "outputs": [],
   "source": [
    "class PytorchMultiClass(nn.Module):\n",
    "    def __init__(self, num_features):\n",
    "        super(PytorchMultiClass, self).__init__()\n",
    "        \n",
    "        self.layer_1 = nn.Linear(num_features, 512)\n",
    "        self.layer_2 = nn.Linear(512, 256)\n",
    "        self.layer_3 = nn.Linear(256, 128)\n",
    "        self.layer_out = nn.Linear(128, 104)\n",
    "        self.softmax = nn.Softmax(dim=1)\n",
    "        \n",
    "        self.relu = nn.ReLU()\n",
    "        self.dropout = nn.Dropout(p=0.2)\n",
    "        self.batchnorm1 = nn.BatchNorm1d(512)\n",
    "        self.batchnorm2 = nn.BatchNorm1d(256)\n",
    "        self.batchnorm3 = nn.BatchNorm1d(128)\n",
    "    \n",
    "\n",
    "    def forward(self, x):\n",
    "#         x = F.dropout(F.relu(self.layer_1(x)), training=self.training)\n",
    "#         x = F.dropout(F.relu(self.layer_2(x)), training=self.training)\n",
    "#         x = self.layer_out(x)\n",
    "        x = self.layer_1(x)\n",
    "        x = self.batchnorm1(x)\n",
    "        x = self.relu(x)\n",
    "        x = self.dropout(x)\n",
    "        \n",
    "        x = self.layer_2(x)\n",
    "        x = self.batchnorm2(x)\n",
    "        x = self.relu(x)\n",
    "        x = self.dropout(x)\n",
    "        \n",
    "        x = self.layer_3(x)\n",
    "        x = self.batchnorm3(x)\n",
    "        x = self.relu(x)\n",
    "        x = self.dropout(x)\n",
    "        \n",
    "        x = self.layer_out(x)\n",
    "        return x\n",
    "    \n",
    "model = PytorchMultiClass(X_train.shape[1])"
   ]
  },
  {
   "cell_type": "code",
   "execution_count": 10,
   "metadata": {},
   "outputs": [
    {
     "data": {
      "text/plain": [
       "PytorchMultiClass(\n",
       "  (layer_1): Linear(in_features=6, out_features=512, bias=True)\n",
       "  (layer_2): Linear(in_features=512, out_features=256, bias=True)\n",
       "  (layer_3): Linear(in_features=256, out_features=128, bias=True)\n",
       "  (layer_out): Linear(in_features=128, out_features=104, bias=True)\n",
       "  (softmax): Softmax(dim=1)\n",
       "  (relu): ReLU()\n",
       "  (dropout): Dropout(p=0.2, inplace=False)\n",
       "  (batchnorm1): BatchNorm1d(512, eps=1e-05, momentum=0.1, affine=True, track_running_stats=True)\n",
       "  (batchnorm2): BatchNorm1d(256, eps=1e-05, momentum=0.1, affine=True, track_running_stats=True)\n",
       "  (batchnorm3): BatchNorm1d(128, eps=1e-05, momentum=0.1, affine=True, track_running_stats=True)\n",
       ")"
      ]
     },
     "execution_count": 10,
     "metadata": {},
     "output_type": "execute_result"
    }
   ],
   "source": [
    "from src.models.pytorch import get_device\n",
    "\n",
    "device = get_device()\n",
    "model.to(device)"
   ]
  },
  {
   "cell_type": "markdown",
   "metadata": {},
   "source": [
    "Train Model"
   ]
  },
  {
   "cell_type": "markdown",
   "metadata": {},
   "source": [
    "Define 2 dictionaries that will store the accuracy/epoch and loss/epoch for both train and validation sets."
   ]
  },
  {
   "cell_type": "code",
   "execution_count": 11,
   "metadata": {},
   "outputs": [],
   "source": [
    "accuracy_stats = {'train': [], \"val\": []}\n",
    "loss_stats = {'train': [], \"val\": []}"
   ]
  },
  {
   "cell_type": "code",
   "execution_count": 12,
   "metadata": {},
   "outputs": [],
   "source": [
    "criterion = nn.CrossEntropyLoss()\n",
    "optimizer = torch.optim.Adam(model.parameters(), lr=0.01)\n",
    "scheduler = torch.optim.lr_scheduler.StepLR(optimizer, 1, gamma=0.9)"
   ]
  },
  {
   "cell_type": "code",
   "execution_count": 13,
   "metadata": {},
   "outputs": [],
   "source": [
    "N_EPOCHS = 30\n",
    "BATCH_SIZE = 10000"
   ]
  },
  {
   "cell_type": "code",
   "execution_count": 17,
   "metadata": {},
   "outputs": [
    {
     "name": "stdout",
     "output_type": "stream",
     "text": [
      "Epoch: 0\n",
      "\t(train)\t|\tLoss: 0.0003\t|\tAcc: 21.6%\n",
      "\t(valid)\t|\tLoss: 0.0003\t|\tAcc: 22.8%\n",
      "Epoch: 1\n",
      "\t(train)\t|\tLoss: 0.0003\t|\tAcc: 21.9%\n",
      "\t(valid)\t|\tLoss: 0.0003\t|\tAcc: 23.2%\n",
      "Epoch: 2\n",
      "\t(train)\t|\tLoss: 0.0003\t|\tAcc: 22.1%\n",
      "\t(valid)\t|\tLoss: 0.0003\t|\tAcc: 23.5%\n",
      "Epoch: 3\n",
      "\t(train)\t|\tLoss: 0.0003\t|\tAcc: 22.3%\n",
      "\t(valid)\t|\tLoss: 0.0003\t|\tAcc: 23.7%\n",
      "Epoch: 4\n",
      "\t(train)\t|\tLoss: 0.0003\t|\tAcc: 22.5%\n",
      "\t(valid)\t|\tLoss: 0.0003\t|\tAcc: 24.1%\n",
      "Epoch: 5\n",
      "\t(train)\t|\tLoss: 0.0003\t|\tAcc: 22.7%\n",
      "\t(valid)\t|\tLoss: 0.0003\t|\tAcc: 24.4%\n",
      "Epoch: 6\n",
      "\t(train)\t|\tLoss: 0.0003\t|\tAcc: 22.9%\n",
      "\t(valid)\t|\tLoss: 0.0003\t|\tAcc: 24.6%\n",
      "Epoch: 7\n",
      "\t(train)\t|\tLoss: 0.0003\t|\tAcc: 23.1%\n",
      "\t(valid)\t|\tLoss: 0.0003\t|\tAcc: 24.9%\n",
      "Epoch: 8\n",
      "\t(train)\t|\tLoss: 0.0003\t|\tAcc: 23.3%\n",
      "\t(valid)\t|\tLoss: 0.0003\t|\tAcc: 25.0%\n",
      "Epoch: 9\n",
      "\t(train)\t|\tLoss: 0.0003\t|\tAcc: 23.3%\n",
      "\t(valid)\t|\tLoss: 0.0003\t|\tAcc: 25.3%\n",
      "Epoch: 10\n",
      "\t(train)\t|\tLoss: 0.0003\t|\tAcc: 23.5%\n",
      "\t(valid)\t|\tLoss: 0.0003\t|\tAcc: 25.4%\n",
      "Epoch: 11\n",
      "\t(train)\t|\tLoss: 0.0003\t|\tAcc: 23.6%\n",
      "\t(valid)\t|\tLoss: 0.0003\t|\tAcc: 25.6%\n",
      "Epoch: 12\n",
      "\t(train)\t|\tLoss: 0.0003\t|\tAcc: 23.7%\n",
      "\t(valid)\t|\tLoss: 0.0003\t|\tAcc: 25.8%\n",
      "Epoch: 13\n",
      "\t(train)\t|\tLoss: 0.0003\t|\tAcc: 23.9%\n",
      "\t(valid)\t|\tLoss: 0.0003\t|\tAcc: 26.0%\n",
      "Epoch: 14\n",
      "\t(train)\t|\tLoss: 0.0003\t|\tAcc: 24.0%\n",
      "\t(valid)\t|\tLoss: 0.0003\t|\tAcc: 26.1%\n",
      "Epoch: 15\n",
      "\t(train)\t|\tLoss: 0.0003\t|\tAcc: 24.1%\n",
      "\t(valid)\t|\tLoss: 0.0003\t|\tAcc: 26.3%\n",
      "Epoch: 16\n",
      "\t(train)\t|\tLoss: 0.0003\t|\tAcc: 24.3%\n",
      "\t(valid)\t|\tLoss: 0.0003\t|\tAcc: 26.5%\n",
      "Epoch: 17\n",
      "\t(train)\t|\tLoss: 0.0003\t|\tAcc: 24.3%\n",
      "\t(valid)\t|\tLoss: 0.0003\t|\tAcc: 26.5%\n",
      "Epoch: 18\n",
      "\t(train)\t|\tLoss: 0.0003\t|\tAcc: 24.4%\n",
      "\t(valid)\t|\tLoss: 0.0003\t|\tAcc: 26.7%\n",
      "Epoch: 19\n",
      "\t(train)\t|\tLoss: 0.0003\t|\tAcc: 24.5%\n",
      "\t(valid)\t|\tLoss: 0.0003\t|\tAcc: 26.8%\n",
      "Epoch: 20\n",
      "\t(train)\t|\tLoss: 0.0003\t|\tAcc: 24.6%\n",
      "\t(valid)\t|\tLoss: 0.0003\t|\tAcc: 27.1%\n",
      "Epoch: 21\n",
      "\t(train)\t|\tLoss: 0.0003\t|\tAcc: 24.7%\n",
      "\t(valid)\t|\tLoss: 0.0003\t|\tAcc: 27.2%\n",
      "Epoch: 22\n",
      "\t(train)\t|\tLoss: 0.0003\t|\tAcc: 24.8%\n",
      "\t(valid)\t|\tLoss: 0.0003\t|\tAcc: 27.3%\n",
      "Epoch: 23\n",
      "\t(train)\t|\tLoss: 0.0003\t|\tAcc: 24.9%\n",
      "\t(valid)\t|\tLoss: 0.0003\t|\tAcc: 27.4%\n",
      "Epoch: 24\n",
      "\t(train)\t|\tLoss: 0.0003\t|\tAcc: 24.9%\n",
      "\t(valid)\t|\tLoss: 0.0003\t|\tAcc: 27.6%\n",
      "Epoch: 25\n",
      "\t(train)\t|\tLoss: 0.0003\t|\tAcc: 25.0%\n",
      "\t(valid)\t|\tLoss: 0.0003\t|\tAcc: 27.6%\n",
      "Epoch: 26\n",
      "\t(train)\t|\tLoss: 0.0003\t|\tAcc: 25.1%\n",
      "\t(valid)\t|\tLoss: 0.0003\t|\tAcc: 27.7%\n",
      "Epoch: 27\n",
      "\t(train)\t|\tLoss: 0.0003\t|\tAcc: 25.1%\n",
      "\t(valid)\t|\tLoss: 0.0003\t|\tAcc: 27.8%\n",
      "Epoch: 28\n",
      "\t(train)\t|\tLoss: 0.0003\t|\tAcc: 25.2%\n",
      "\t(valid)\t|\tLoss: 0.0003\t|\tAcc: 27.9%\n",
      "Epoch: 29\n",
      "\t(train)\t|\tLoss: 0.0003\t|\tAcc: 25.3%\n",
      "\t(valid)\t|\tLoss: 0.0003\t|\tAcc: 28.0%\n"
     ]
    }
   ],
   "source": [
    "#use train_classification, test_classification defined in lab5\n",
    "from src.models.pytorch import train_classification, test_classification\n",
    "\n",
    "for epoch in range(N_EPOCHS):\n",
    "    train_loss, train_acc = train_classification(train_dataset, model=model, criterion=criterion, optimizer=optimizer, batch_size=BATCH_SIZE, device=device, scheduler=scheduler, accuracy_stats=accuracy_stats, loss_stats=loss_stats, shuffle=True)\n",
    "    valid_loss, valid_acc = test_classification(val_dataset, model=model, criterion=criterion, batch_size=BATCH_SIZE, device=device, accuracy_stats=accuracy_stats, loss_stats=loss_stats)\n",
    "\n",
    "    print(f'Epoch: {epoch}')\n",
    "    print(f'\\t(train)\\t|\\tLoss: {train_loss:.4f}\\t|\\tAcc: {train_acc * 100:.1f}%')\n",
    "    print(f'\\t(valid)\\t|\\tLoss: {valid_loss:.4f}\\t|\\tAcc: {valid_acc * 100:.1f}%')"
   ]
  },
  {
   "cell_type": "code",
   "execution_count": 18,
   "metadata": {},
   "outputs": [],
   "source": [
    "torch.save(model, \"../models/pytorch_nn_v3.pt\")"
   ]
  },
  {
   "cell_type": "code",
   "execution_count": 20,
   "metadata": {},
   "outputs": [
    {
     "name": "stdout",
     "output_type": "stream",
     "text": [
      "\tLoss: 0.0003\t|\tAccuracy: 0.3\n"
     ]
    }
   ],
   "source": [
    "test_loss, test_acc = test_classification(test_dataset, model=model, criterion=criterion, batch_size=BATCH_SIZE, device=device, accuracy_stats=accuracy_stats, loss_stats=loss_stats)\n",
    "print(f'\\tLoss: {test_loss:.4f}\\t|\\tAccuracy: {test_acc:.1f}')"
   ]
  },
  {
   "cell_type": "markdown",
   "metadata": {},
   "source": [
    "Model1 Potential Reasons to low score:\n",
    "1. Imbalanced data\n",
    "2. Only 1 hidden layer constructed\n",
    "3. Too many classes\n",
    "\n",
    "Adding more layer of hidden layers are not working better, need further research."
   ]
  },
  {
   "cell_type": "markdown",
   "metadata": {},
   "source": [
    "Trials:\n",
    "    standard: 29-30%\n",
    "    minmax: 29-30\n",
    "    Robust:"
   ]
  }
 ],
 "metadata": {
  "kernelspec": {
   "display_name": "Python 3",
   "language": "python",
   "name": "python3"
  },
  "language_info": {
   "codemirror_mode": {
    "name": "ipython",
    "version": 3
   },
   "file_extension": ".py",
   "mimetype": "text/x-python",
   "name": "python",
   "nbconvert_exporter": "python",
   "pygments_lexer": "ipython3",
   "version": "3.7.6"
  }
 },
 "nbformat": 4,
 "nbformat_minor": 4
}
